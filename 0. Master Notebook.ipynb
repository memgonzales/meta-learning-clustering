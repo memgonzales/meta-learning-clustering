{
 "cells": [
  {
   "cell_type": "markdown",
   "metadata": {},
   "source": [
    "# Automatic Recommendation of Distance Metric for $k$-Means Clustering: <br>A Meta-Learning Approach\n",
    "\n",
    "**Mark Edward M. Gonzales, Lorene C. Uy, and Jacob Adrianne L. Sy (CSC713M)** <br>\n",
    "mark_gonzales@dlsu.edu.ph, lorene_c_uy@dlsu.edu.ph, jacob_adrianne_l_sy@dlsu.edu.ph\n",
    "\n",
    "In partial fulfillment of the requirements for the Machine Learning graduate class (CSC713M) under **Dr. Macario O. Cordel, II** of the Department of Computer Technology, College of Computer Studies, De La Salle University, this notebook serves as the **master directory for the files** related to the investigatory project titled \"Automatic Recommendation of Distance Metric for $k$-Means Clustering: A Meta-Learning Approach.\""
   ]
  },
  {
   "cell_type": "markdown",
   "metadata": {},
   "source": [
    "## Datasets"
   ]
  },
  {
   "cell_type": "markdown",
   "metadata": {},
   "source": [
    "1. After Manual Data Wrangling <br>\n",
    "   a. [OpenML Datasets](https://drive.google.com/drive/folders/1CxUsyiKmCpgNlS9pePh_tXjsrhgzHb_U?usp=sharing) <br>\n",
    "   b. [UCI Machine Learning Repository Datasets](https://drive.google.com/drive/folders/1kU2SHzluFAwNG3sMdBLT-0D9RFtcwq88?usp=sharing) <br>\n",
    "   c. [Kaggle Datasets](https://drive.google.com/drive/folders/17VyMgsNNayMv0yc1X86MkaxrLrPUK8QN?usp=sharing)\n",
    "   \n",
    "2. [After One-Hot Encoding](https://github.com/memgonzales/meta-learning-clustering/tree/master/final_datasets) <br> \n",
    "\n",
    "3. Labeled with Distance Metrics <br>\n",
    "   a. [Using All 9 Distance Metrics](https://github.com/memgonzales/meta-learning-clustering/blob/master/dataset_labels/csv_collated/results_all_metrics.csv) <br>\n",
    "   b. [Using Only Top 3 Distance Metrics](https://github.com/memgonzales/meta-learning-clustering/blob/master/results_top_three_metrics.csv) <br>\n",
    "   \n",
    "4. Meta-Features <br>\n",
    "   a. [All meta-features](https://github.com/memgonzales/meta-learning-clustering/blob/master/dataset_labels/metafeatures.csv)"
   ]
  },
  {
   "cell_type": "markdown",
   "metadata": {},
   "source": [
    "## Notebooks"
   ]
  },
  {
   "cell_type": "markdown",
   "metadata": {},
   "source": [
    "1. [Data Collection and Preprocessing](https://github.com/memgonzales/meta-learning-clustering/blob/master/1.%20Data%20Collection%20%26%20Preprocessing.ipynb)\n",
    "2. [Exploratory Data Analysis](https://github.com/memgonzales/meta-learning-clustering/blob/master/2.%20Exploratory%20Data%20Analysis.ipynb)\n",
    "3. [Dataset Labeling](https://github.com/memgonzales/meta-learning-clustering/blob/master/3.%20Dataset%20Labeling.ipynb)\n",
    "4. [Meta-Feature Extraction](https://github.com/memgonzales/meta-learning-clustering/blob/master/4.%20Meta-Feature%20Extraction.ipynb)\n",
    "5. [Model Building](https://github.com/memgonzales/meta-learning-clustering/blob/master/5.%20Model%20Building%20(DBI)-Copy3.ipynb)"
   ]
  },
  {
   "cell_type": "markdown",
   "metadata": {},
   "source": [
    "## Checkpoints and Papers"
   ]
  },
  {
   "cell_type": "markdown",
   "metadata": {},
   "source": [
    "1. [Project Proposal](https://github.com/memgonzales/meta-learning-clustering/blob/master/Initial%20Project%20Proposal.pdf)\n",
    "2. [Checkpoint 1](https://drive.google.com/file/d/1oRsa72VomopDE6KVEQqBd7EwZilKvbA5/view?usp=sharing)\n",
    "3. [Final Paper](https://drive.google.com/file/d/1waVEKpZe4g4w8nWfugnYRNg4iIm3s-3f/view?usp=sharing)"
   ]
  },
  {
   "cell_type": "markdown",
   "metadata": {},
   "source": []
  }
 ],
 "metadata": {
  "kernelspec": {
   "display_name": "Python 3",
   "language": "python",
   "name": "python3"
  },
  "language_info": {
   "codemirror_mode": {
    "name": "ipython",
    "version": 3
   },
   "file_extension": ".py",
   "mimetype": "text/x-python",
   "name": "python",
   "nbconvert_exporter": "python",
   "pygments_lexer": "ipython3",
   "version": "3.7.6"
  }
 },
 "nbformat": 4,
 "nbformat_minor": 4
}
