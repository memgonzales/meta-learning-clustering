{
 "cells": [
  {
   "cell_type": "markdown",
   "metadata": {},
   "source": [
    "## Dataset of Datasets"
   ]
  },
  {
   "cell_type": "markdown",
   "metadata": {},
   "source": [
    "- Dataset of Datasets \n",
    "    - [After One-Hot Encoding (But Prior to Imputation and Normalization)]()\n",
    "        - Note: Datasets whose filenames have the suffix `noheader` do not have header rows.\n",
    "    - Labeled with Distance Metrics\n",
    "        - [Using All 9 Distance Metrics]()\n",
    "        - [Using Only Top 3 Distance Metrics (Euclidean, Manhattan, Chebyshev)]() <br> <br>\n",
    "   \n",
    "- [Meta-Feature Dataset]()"
   ]
  },
  {
   "cell_type": "markdown",
   "metadata": {},
   "source": [
    "# Notebooks"
   ]
  },
  {
   "cell_type": "markdown",
   "metadata": {},
   "source": [
    "- [Dataset Labeling]()\n",
    "- [Meta-Feature Extraction]()\n",
    "- [Model Building and Evaluation]()"
   ]
  },
  {
   "cell_type": "markdown",
   "metadata": {},
   "source": [
    "## Paper"
   ]
  },
  {
   "cell_type": "markdown",
   "metadata": {},
   "source": [
    "- Version accepted for paper presentation in 2022 IEEE Region 10 Conference (TENCON2022)"
   ]
  }
 ],
 "metadata": {
  "kernelspec": {
   "display_name": "Python 3",
   "language": "python",
   "name": "python3"
  },
  "language_info": {
   "codemirror_mode": {
    "name": "ipython",
    "version": 3
   },
   "file_extension": ".py",
   "mimetype": "text/x-python",
   "name": "python",
   "nbconvert_exporter": "python",
   "pygments_lexer": "ipython3",
   "version": "3.7.6"
  }
 },
 "nbformat": 4,
 "nbformat_minor": 4
}
