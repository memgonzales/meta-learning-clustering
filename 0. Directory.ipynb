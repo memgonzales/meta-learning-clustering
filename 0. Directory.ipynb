{
 "cells": [
  {
   "cell_type": "markdown",
   "metadata": {},
   "source": [
    "## Dataset of Datasets"
   ]
  },
  {
   "cell_type": "markdown",
   "metadata": {},
   "source": [
    "- Dataset of Datasets \n",
    "    - [After One-Hot Encoding (But Prior to Imputation and Normalization)](https://github.com/memgonzales/meta-learning-clustering/tree/master/dataset_of_datasets)\n",
    "        - Note: Datasets whose filenames have the suffix `noheader` do not have header rows.\n",
    "    - Labeled with Distance Metrics\n",
    "        - [Using All 9 Distance Metrics](https://github.com/memgonzales/meta-learning-clustering/blob/master/dataset_labels/csv_collated/results_all_metrics.csv)\n",
    "        - [Using Only Top 3 Distance Metrics (Euclidean, Manhattan, Chebyshev)](https://github.com/memgonzales/meta-learning-clustering/blob/master/dataset_labels/csv_collated/results_top_metrics.csv) <br> <br>\n",
    "   \n",
    "- [Meta-Feature Dataset](https://github.com/memgonzales/meta-learning-clustering/blob/master/dataset_labels/metafeatures_readable_header.csv)"
   ]
  },
  {
   "cell_type": "markdown",
   "metadata": {},
   "source": [
    "# Notebooks"
   ]
  },
  {
   "cell_type": "markdown",
   "metadata": {},
   "source": [
    "- [Dataset Labeling](https://github.com/memgonzales/meta-learning-clustering/blob/master/1.%20Dataset%20Labeling.ipynb)\n",
    "- [Meta-Feature Extraction](https://github.com/memgonzales/meta-learning-clustering/blob/master/2.%20Meta-Feature%20Extraction.ipynb)\n",
    "- [Model Building and Evaluation](https://github.com/memgonzales/meta-learning-clustering/blob/master/3.%20Model%20Building%20%26%20Evaluation.ipynb)"
   ]
  },
  {
   "cell_type": "markdown",
   "metadata": {},
   "source": [
    "## Paper"
   ]
  },
  {
   "cell_type": "markdown",
   "metadata": {},
   "source": [
    "- [Version accepted for paper presentation in 2022 IEEE Region 10 Conference (TENCON 2022)](https://github.com/memgonzales/meta-learning-clustering/blob/master/Distance%20Metric%20Recommendation%20for%20k-Means%20Clustering%20A%20Meta-Learning%20Approach.pdf)"
   ]
  }
 ],
 "metadata": {
  "kernelspec": {
   "display_name": "Python 3",
   "language": "python",
   "name": "python3"
  },
  "language_info": {
   "codemirror_mode": {
    "name": "ipython",
    "version": 3
   },
   "file_extension": ".py",
   "mimetype": "text/x-python",
   "name": "python",
   "nbconvert_exporter": "python",
   "pygments_lexer": "ipython3",
   "version": "3.7.6"
  }
 },
 "nbformat": 4,
 "nbformat_minor": 4
}
