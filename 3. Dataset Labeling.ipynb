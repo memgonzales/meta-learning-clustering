{
 "cells": [
  {
   "cell_type": "markdown",
   "metadata": {},
   "source": [
    "# Dataset Labeling\n",
    "\n",
    "**Mark Edward M. Gonzales, Lorene C. Uy, and Jacob Adrianne L. Sy (CSC713M)**<br>\n",
    "mark_gonzales@dlsu.edu.ph, lorene_c_uy@dlsu.edu.ph, jacob_adrianne_l_sy@dlsu.edu.ph\n",
    "\n",
    "In partial fulfillment of the requirements for the Machine Learning graduate class (CSC713M) under **Dr. Macario O. Cordel, II** of the Department of Computer Technology, College of Computer Studies, De La Salle University, this notebook details the process and presents the code for the **dataset labeling** stage of the investigatory project titled \"Automatic Recommendation of Distance Metric for $k$-Means Clustering: A Meta-Learning Approach.\""
   ]
  },
  {
   "cell_type": "markdown",
   "metadata": {},
   "source": [
    "<hr>"
   ]
  },
  {
   "cell_type": "markdown",
   "metadata": {},
   "source": [
    "# PART I: Preliminaries"
   ]
  },
  {
   "cell_type": "markdown",
   "metadata": {},
   "source": [
    "The following libraries and modules — most of which are automatically bundled with an Anaconda installation — were used in this notebook:\n",
    "\n",
    "Library/Module | Description | License\n",
    ":-- | :-- | :--\n",
    "<a href = \"https://docs.python.org/3/library/os.html\">`os`</a> | Provides miscellaneous operating system interfaces | Python Software Foundation License\n",
    "<a href = \"https://docs.python.org/3/library/shutil.html\">`shutil`</a> | Provides high-level operations on files and collections of files | Python Software Foundation License\n",
    "<a href = \"https://docs.python.org/3/library/json.html\">`json`</a> | Provides methods for encoding and decoding JavaScript Object Notation files | Python Software Foundation License\n",
    "<a href = \"https://docs.python.org/3/library/math.html\">`math`</a> | Provides access to the mathematical functions defined by the C standard | Python Software Foundation License\n",
    "<a href = \"https://docs.python.org/3/library/warnings.html\">`warnings`</a> | Provides control over warning messages | Python Software Foundation License\n",
    "<a href = \"https://pandas.pydata.org/\">`pandas`</a> | Provides functions for data analysis and manipulation\t | BSD 3-Clause \"New\" or \"Revised\" License\n",
    "<a href = \"https://numpy.org/\">`numpy`</a> | Provides a multidimensional array object, various derived objects, and an assortment of routines for fast operations on arrays | BSD 3-Clause \"New\" or \"Revised\" License\n",
    "<a href = \"https://www.scipy.org/\">`scipy`</a> | Provides efficient numerical routines, such as those for numerical integration, interpolation, optimization, linear algebra, and statistics | BSD 3-Clause \"New\" or \"Revised\" License\n",
    "<a href = \"https://pyclustering.github.io/docs/0.8.2/html/index.html\">`pyclustering`</a> | Collection of cluster analysis, graph coloring, travelling salesman problem algorithms, oscillatory and neural network models, containers, tools for visualization and result analysis | BSD 3-Clause \"New\" or \"Revised\" License\n",
    "<a href = \"https://scikit-learn.org/stable/\">`scikit-learn`</a> | Python module for machine learning and predictive data analysis | BSD 3-Clause \"New\" or \"Revised\" License\n",
    "\n",
    "*The descriptions were lifted from their respective websites.*\n",
    "<br><br>\n",
    "\n",
    "<div class=\"alert alert-block alert-info\">\n",
    "<b>Note:</b>  The pyclustering library is not included in Anaconda by default. The simplest way to install the library is to use pip by running the following command on the command prompt: <br>\n",
    "\n",
    "**`pip3 install pyclustering`**\n",
    "</div>"
   ]
  },
  {
   "cell_type": "code",
   "execution_count": null,
   "metadata": {},
   "outputs": [],
   "source": [
    "from os import listdir\n",
    "\n",
    "import json\n",
    "import re\n",
    "import warnings\n",
    "import time\n",
    "\n",
    "import pandas as pd\n",
    "import numpy as np\n",
    "\n",
    "from pyclustering.cluster.kmeans import kmeans\n",
    "from pyclustering.cluster.center_initializer import random_center_initializer\n",
    "from pyclustering.utils.metric import distance_metric\n",
    "from pyclustering.utils.metric import type_metric\n",
    "\n",
    "from scipy.spatial import distance\n",
    "from sklearn import metrics\n",
    "from sklearn.preprocessing import MinMaxScaler\n",
    "from sklearn.impute import SimpleImputer"
   ]
  },
  {
   "cell_type": "markdown",
   "metadata": {},
   "source": [
    "<div class=\"alert alert-block alert-warning\">\n",
    "If some of the methods in this notebook are not running (especially those related to <a href=\"https://scikit-learn.org/stable/modules/classes.html#module-sklearn.metrics\">sklearn.metrics</a>, it may be necessary to update the installed versions of these libraries. A quick way to do so is by running the following command on the Anaconda prompt: <br>\n",
    "\n",
    "**`conda install anaconda`**\n",
    "</div>"
   ]
  },
  {
   "cell_type": "markdown",
   "metadata": {},
   "source": [
    "<hr>"
   ]
  },
  {
   "cell_type": "markdown",
   "metadata": {},
   "source": [
    "## PART II: Initial Clustering of the Datasets"
   ]
  },
  {
   "cell_type": "markdown",
   "metadata": {},
   "source": [
    "This section details the initial clustering of the datasets using the nine (9) distance metrics considered in [1]."
   ]
  },
  {
   "cell_type": "markdown",
   "metadata": {},
   "source": [
    "## A. Distance Metrics"
   ]
  },
  {
   "cell_type": "markdown",
   "metadata": {},
   "source": [
    "\n",
    "Let $o_i$ and $o_j$ be two observations (data points) in the dataset $d = \\{a_{n \\times m}\\}$, where $n$ is the number of observations and $m$ is the number of features. "
   ]
  },
  {
   "cell_type": "markdown",
   "metadata": {},
   "source": [
    "### 1. Manhattan Distance\n",
    "\n",
    "$$\\text{dist}_{\\text{manhattan}}(o_i, o_j) = \\sum_{k = 1}^{m} |a_{ik} - a_{jk}|$$\n",
    "\n",
    "`pyclustering` provides a built-in [implementation](https://pyclustering.github.io/docs/0.9.0/html/da/d3a/classpyclustering_1_1utils_1_1metric_1_1type__metric.html#a49a236683bbe19f1771fb16b9f68e144) of the Manhattan distance."
   ]
  },
  {
   "cell_type": "markdown",
   "metadata": {},
   "source": [
    "### 2. Euclidean Distance\n",
    "\n",
    "$$\\text{dist}_{\\text{euclidean}}(o_i, o_j) = \\sqrt{\\sum_{k = 1}^{m} \\left(a_{ik} - a_{jk}\\right)^2}$$\n",
    "\n",
    "`pyclustering` provides a built-in [implementation](https://pyclustering.github.io/docs/0.9.0/html/da/d3a/classpyclustering_1_1utils_1_1metric_1_1type__metric.html#ada41bdfbf917a3463b48f75c9a6ccae1) of the Euclidean distance."
   ]
  },
  {
   "cell_type": "markdown",
   "metadata": {},
   "source": [
    "### 3. Chebyshev Distance\n",
    "\n",
    "$$\\text{dist}_{\\text{chebyshev}}(o_i, o_j) = \\max_{0<k<m+1}\\{|a_{ik} - a_{jk}|\\}$$\n",
    "\n",
    "`pyclustering` provides a built-in [implementation](https://pyclustering.github.io/docs/0.9.0/html/da/d3a/classpyclustering_1_1utils_1_1metric_1_1type__metric.html#ad4419ac00c1f1c484f86d0af82bf0164) of the Chebyshev distance."
   ]
  },
  {
   "cell_type": "markdown",
   "metadata": {},
   "source": [
    "### 4. Standardized Euclidean Distance\n",
    "\n",
    "$$\\text{dist}_{\\text{standardized euclidean}}(o_i, o_j) = \\sqrt{\\sum_{k = 1}^{m} \\frac{\\left(a_{ik} - a_{jk}\\right)^2}{s_k^2}}$$\n",
    "\n",
    "where $s_k^2$ is the variance of $a_{\\cdot k}$."
   ]
  },
  {
   "cell_type": "markdown",
   "metadata": {},
   "source": [
    "This method returns the standardized Euclidean distance between two observations.\n",
    "\n",
    "**Parameters**:\n",
    "- `u`: First observation \n",
    "- `v`: Second observation\n",
    "\n",
    "**Return Value**:\n",
    "- Standardized Euclidean distance between two observations"
   ]
  },
  {
   "cell_type": "code",
   "execution_count": 3,
   "metadata": {},
   "outputs": [],
   "source": [
    "def standardized_euclidean(u, v):\n",
    "    return distance.cdist([u], [v], 'seuclidean')[0][0]"
   ]
  },
  {
   "cell_type": "markdown",
   "metadata": {},
   "source": [
    "**Sanity Check**: The standardized Euclidean distance between these two vectors should be 2.4495."
   ]
  },
  {
   "cell_type": "code",
   "execution_count": 4,
   "metadata": {},
   "outputs": [
    {
     "data": {
      "text/plain": [
       "2.449489742783178"
      ]
     },
     "execution_count": 4,
     "metadata": {},
     "output_type": "execute_result"
    }
   ],
   "source": [
    "standardized_euclidean([0.1, 0.7, 0.3], [0.4, 0.6, 0.9])"
   ]
  },
  {
   "cell_type": "markdown",
   "metadata": {},
   "source": [
    "### 5. Canberra Distance\n",
    "$$\\text{dist}_{\\text{canberra}}(o_i, o_j) = \\sum_{k = 1}^{m} \\frac{|a_{ik} - a_{jk}|}{|a_{ik}| + |a_{jk}|}$$\n",
    "\n",
    "`pyclustering` provides a built-in [implementation](https://pyclustering.github.io/docs/0.9.0/html/da/d3a/classpyclustering_1_1utils_1_1metric_1_1type__metric.html#a98e4af29af65e57b6dfbabcbd94c3be7) of the Canberra distance."
   ]
  },
  {
   "cell_type": "markdown",
   "metadata": {},
   "source": [
    "### 6. Mahalanobis Distance\n",
    "$$\\text{dist}_{\\text{mahalanobis}}(o_i, o_j) = \\sqrt{(o_i - o_j)^TM^{-1}(o_i - o_j)}$$\n",
    "\n",
    "where $M$ is the covariance of $d$."
   ]
  },
  {
   "cell_type": "markdown",
   "metadata": {},
   "source": [
    "This method returns the Mahalanobis distance between two observations. Note that `iv` is the inverse covariance matrix of the dataset; it is a global variable that will be set in the method `label_dataset`.\n",
    "\n",
    "**Parameters**:\n",
    "- `u`: First observation \n",
    "- `v`: Second observation\n",
    "\n",
    "**Return Value**:\n",
    "- Mahalanobis distance between two observations"
   ]
  },
  {
   "cell_type": "code",
   "execution_count": 5,
   "metadata": {},
   "outputs": [],
   "source": [
    "def mahalanobis(u, v):\n",
    "    return distance.mahalanobis(u, v, iv)"
   ]
  },
  {
   "cell_type": "markdown",
   "metadata": {},
   "source": [
    "### 7. Cosine Distance\n",
    "$$\\text{dist}_{\\text{cosine}}(o_i, o_j) = 1 - \\frac{o_i \\cdot o_j}{||o_i|| \\cdot ||o_j||}$$\n",
    "\n",
    "`scipy` provides a built-in [implementation](https://docs.scipy.org/doc/scipy/reference/generated/scipy.spatial.distance.cosine.html#scipy.spatial.distance.cosine) of the cosine distance."
   ]
  },
  {
   "cell_type": "markdown",
   "metadata": {},
   "source": [
    "### 8. Adjusted Cosine Distance\n",
    "$$\\text{dist}_{\\text{adjusted cosine}}(o_i, o_j) = 1 - \\frac{\\sum_{k=1}^m \\left(a_{jk} - \\text{mean}(a_{\\cdot k})\\right)\\left(a_{jk} - \\text{mean}(a_{\\cdot k})\\right)}{\\sqrt{\\sum_{k=1}^m \\left(a_{ik} - \\text{mean}(a_{\\cdot k})\\right)^2} \\sqrt{\\sum_{k=1}^m \\left(a_{jk} - \\text{mean}(a_{\\cdot k})\\right)^2}}$$"
   ]
  },
  {
   "cell_type": "code",
   "execution_count": 6,
   "metadata": {},
   "outputs": [],
   "source": [
    "def adjusted_cosine(u, v):\n",
    "    return distance.cosine(u - np.mean(u), v - np.mean(v))"
   ]
  },
  {
   "cell_type": "markdown",
   "metadata": {},
   "source": [
    "**Sanity Check**: The standardized Euclidean distance between these two vectors should be 0.7832."
   ]
  },
  {
   "cell_type": "code",
   "execution_count": 7,
   "metadata": {},
   "outputs": [
    {
     "data": {
      "text/plain": [
       "0.78322250761897"
      ]
     },
     "execution_count": 7,
     "metadata": {},
     "output_type": "execute_result"
    }
   ],
   "source": [
    "adjusted_cosine([0.1, 0.7, 0.3], [0.4, 0.6, 0.9])"
   ]
  },
  {
   "cell_type": "markdown",
   "metadata": {},
   "source": [
    "### 9. Pearson Correlation Distance\n",
    "$$\\text{dist}_{\\text{pearson}}(o_i, o_j) = 1 - \\frac{\\sum_{k=1}^m \\left(a_{jk} - \\text{mean}(a_{i \\cdot})\\right)\\left(a_{jk} - \\text{mean}(a_{j \\cdot})\\right)}{\\sqrt{\\sum_{k=1}^m \\left(a_{ik} - \\text{mean}(a_{i \\cdot})\\right)^2} \\sqrt{\\sum_{k=1}^m \\left(a_{jk} - \\text{mean}(a_{j \\cdot})\\right)^2}}$$\n",
    "\n",
    "`scipy` provides a built-in [implementation](https://docs.scipy.org/doc/scipy/reference/generated/scipy.spatial.distance.correlation.html) of the cosine distance."
   ]
  },
  {
   "cell_type": "markdown",
   "metadata": {},
   "source": [
    "### Mapping the Distance Metrics to Functions"
   ]
  },
  {
   "cell_type": "markdown",
   "metadata": {},
   "source": [
    "The dictionary below maps the distance metrics to the method implementing them."
   ]
  },
  {
   "cell_type": "code",
   "execution_count": 8,
   "metadata": {},
   "outputs": [],
   "source": [
    "metric_functions =  {'manhattan': distance_metric(type_metric.MANHATTAN),\n",
    "                     'euclidean': distance_metric(type_metric.EUCLIDEAN),\n",
    "                     'chebyshev': distance_metric(type_metric.CHEBYSHEV),\n",
    "                     'standardized_euclidean': distance_metric(type_metric.USER_DEFINED, func=standardized_euclidean),\n",
    "                     'canberra': distance_metric(type_metric.CANBERRA),\n",
    "                     'mahalanobis': distance_metric(type_metric.USER_DEFINED, func=mahalanobis),\n",
    "                     'cosine': distance_metric(type_metric.USER_DEFINED, func=distance.cosine),\n",
    "                     'adjusted-cosine': distance_metric(type_metric.USER_DEFINED, func=adjusted_cosine), \n",
    "                     'pearson': distance_metric(type_metric.USER_DEFINED, func=distance.correlation)}"
   ]
  },
  {
   "cell_type": "markdown",
   "metadata": {},
   "source": [
    "This method returns the function corresponding to the specified distance metric.\n",
    "\n",
    "**Parameter**:\n",
    "- `metric`: Distance metric\n",
    "\n",
    "**Return**:\n",
    "- Function corresponding to the specified distance metric"
   ]
  },
  {
   "cell_type": "code",
   "execution_count": 9,
   "metadata": {},
   "outputs": [],
   "source": [
    "def get_metric_function(metric):\n",
    "    return metric_functions[metric]"
   ]
  },
  {
   "cell_type": "markdown",
   "metadata": {},
   "source": [
    "<hr>"
   ]
  },
  {
   "cell_type": "markdown",
   "metadata": {},
   "source": [
    "## B. Helper Functions"
   ]
  },
  {
   "cell_type": "markdown",
   "metadata": {},
   "source": [
    "This subsection focuses on the helper functions for returning the cluster assignment and the ground-truth labels of the observations."
   ]
  },
  {
   "cell_type": "markdown",
   "metadata": {},
   "source": [
    "### 1. Cluster assignment of the observations"
   ]
  },
  {
   "cell_type": "markdown",
   "metadata": {},
   "source": [
    "This method returns a list representing the cluster assignment of the observations. Formally, it returns a list $A$ where $A[i]$ is the cluster to which the $i^{\\text{th}}$ observation belongs.\n",
    "\n",
    "**Parameters**:\n",
    "- `num_observations`: Number of observations in the dataset\n",
    "- `clusters`: Two-dimensional list where `clusters[i]` contains the indices of the observations that belong to the $i^{\\text{th}}$ cluster\n",
    "\n",
    "**Return Value**:\n",
    "- A one-dimensional list $A$ where $A[i]$ is the cluster to which the $i^{\\text{th}}$ observation belongs"
   ]
  },
  {
   "cell_type": "code",
   "execution_count": 10,
   "metadata": {},
   "outputs": [],
   "source": [
    "def get_cluster_mapping(num_observations, clusters):\n",
    "    cluster_mapping = [0 for _ in range(num_observations)]\n",
    "    \n",
    "    cluster_idx = 0\n",
    "    for cluster in clusters:\n",
    "        for x in cluster:\n",
    "            cluster_mapping[x] = cluster_idx\n",
    "            \n",
    "        cluster_idx += 1\n",
    "        \n",
    "    return cluster_mapping"
   ]
  },
  {
   "cell_type": "markdown",
   "metadata": {},
   "source": [
    "### 2. Ground-truth labels of the observations"
   ]
  },
  {
   "cell_type": "markdown",
   "metadata": {},
   "source": [
    "Returns a list representing the ground-truth labels of the observations. Formally, it returns a list $A$ where $A[i]$ is the ground-truth label of the $i^{\\text{th}}$ observation.\n",
    "\n",
    "**Precondition**:\n",
    "- The labels are found at the last column of the dataset.\n",
    "\n",
    "**Parameter**:\n",
    "- `data`: Dataset\n",
    "\n",
    "**Return Value**:\n",
    "- A one-dimensional list $A$ where $A[i]$ is the ground-truth label of the $i^{\\text{th}}$ observation"
   ]
  },
  {
   "cell_type": "code",
   "execution_count": 11,
   "metadata": {},
   "outputs": [],
   "source": [
    "def get_ground_truth(data):\n",
    "    return data[data.columns[-1]].astype('category').cat.codes.to_numpy()"
   ]
  },
  {
   "cell_type": "markdown",
   "metadata": {},
   "source": [
    "### 3. $k$-means clustering"
   ]
  },
  {
   "cell_type": "markdown",
   "metadata": {},
   "source": [
    "Returns the cluster assignment of the observations after performing $k$-means clustering. Formally, it returns a two-dimensional list $A$ where $A[i]$ contains the indices of the observations that belong to the $i^{\\text{th}}$ cluster. \n",
    "\n",
    "**Parameters**:\n",
    "- `X`: Observations\n",
    "- `k`: Number of clusters\n",
    "- `distance_metric`: Distance measure to be used in clustering\n",
    "\n",
    "**Return Value**:\n",
    "- A two-dimensional list $A$ where $A[i]$ contains the indices of the observations that belong to the $i^{\\text{th}}$ cluster"
   ]
  },
  {
   "cell_type": "code",
   "execution_count": 12,
   "metadata": {},
   "outputs": [],
   "source": [
    "def k_means_cluster(X, k, distance_metric):\n",
    "    initial_centers = random_center_initializer(X, k, random_state=96024).initialize()\n",
    "    \n",
    "    k_means = kmeans(X, initial_centers, metric=distance_metric)    \n",
    "    k_means.process()\n",
    "    clusters = k_means.get_clusters()\n",
    "    \n",
    "    return clusters"
   ]
  },
  {
   "cell_type": "markdown",
   "metadata": {},
   "source": [
    "<hr>"
   ]
  },
  {
   "cell_type": "markdown",
   "metadata": {},
   "source": [
    "## C. Dataset Labeling"
   ]
  },
  {
   "cell_type": "markdown",
   "metadata": {},
   "source": [
    "Before performing $k$-means, a minimal suite of preprocessing techniques is performed:\n",
    "- **Data imputation** (using the mean of the values for numerical features)\n",
    "- **Data normalization** (following [2, 3]). Let $x$ be the value to be normalized and $x_{\\text{max}}$ and $x_{\\text{min}}$ be the maximum and minimum values:\n",
    "\n",
    "   $$x_\\text{normalized} = \\frac{x - x_\\text{min}}{x_\\text{max} - x_\\text{min}},$$\n",
    "\n",
    "   thus $x_\\text{normalized}$ will always fall in the interval $[0, 1]$.\n",
    "   \n",
    "These preprocessing techniques are performed via the [simple imputation transformer](https://scikit-learn.org/stable/modules/generated/sklearn.impute.SimpleImputer.html) and the [min-max scaler](https://scikit-learn.org/stable/modules/generated/sklearn.preprocessing.MinMaxScaler.html) of `scikit-learn`."
   ]
  },
  {
   "cell_type": "markdown",
   "metadata": {},
   "source": [
    "For the evaluation, two cluster validity indices are used:\n",
    "- **Adjusted Rand Index (ARI)**. An external measure, it compares the cluster assignments against the ground-truth assignments. The (unadjusted) Rand index is given by the formula\n",
    "\n",
    "   $$\\text{ARI} =\\text{ } \\frac{\\text{TP}+\\text{TN}}{\\text{TP} + \\text{TN} + \\text{FP} + \\text{FN}},$$\n",
    "   \n",
    "   where $\\text{TP}$, $\\text{TN}$, $\\text{FP}$, and $\\text{FN}$ refer to the number of true positives, true negatives, false positives, and false negatives.\n",
    "   \n",
    "   The adjusted Rand index is a corrected-for-chance version following the scheme introduced in [4]. \n",
    "  \n",
    "  \n",
    "- **Davies-Bouldin Index (DBI)**. An internal measure, it captures the average similarity score (ratio of within-cluster to between-cluster distances) of each cluster with the most similar cluster, as delineated in [5].\n",
    "\n",
    "These scores are computed via the `scikit-learn` methods for calculating the [ARI]() and [DBI]()."
   ]
  },
  {
   "cell_type": "markdown",
   "metadata": {},
   "source": [
    "The method below returns two dictionaries containing the evaluation results after performing $k$-means clustering using the distance measures of interest. The first dictionary uses the adjusted Rand Index as the cluster validation index while the second dictionary uses the Davies-Bouldin index.\n",
    "\n",
    "**Parameter**:\n",
    "- `dataset`: Dataset\n",
    "\n",
    "**Return Values**:\n",
    "- Dictionary containing the adjusted rand indices after performing $k$-means clustering using the distance measures of interest\n",
    "- Dictionary containing the Davies-Bouldin indices after performing $k$-means clustering using the distance measures of interest"
   ]
  },
  {
   "cell_type": "code",
   "execution_count": 13,
   "metadata": {},
   "outputs": [],
   "source": [
    "def label_dataset(dataset):\n",
    "    NO_HEADER = r'noheader'\n",
    "    \n",
    "    # Denotes that using the distance metric results in the k-means clustering \n",
    "    # to fail to converge or the execution to run into a mathematical error\n",
    "    # (e.g., division by zero)\n",
    "    NOT_APPLICABLE = \"NOT_APPLICABLE\"\n",
    "    \n",
    "    # Some of the datasets are not encoded in the default UTF-8.\n",
    "    if re.search(NO_HEADER, dataset):\n",
    "        data_raw = pd.read_csv(dataset, encoding='latin-1', header = None)\n",
    "    else:\n",
    "        data_raw = pd.read_csv(dataset, encoding='latin-1')\n",
    "        \n",
    "    data_raw[data_raw.columns[-1]] = data_raw[data_raw.columns[-1]].fillna(data_raw[data_raw.columns[-1]].mode()[0])\n",
    "        \n",
    "    data = data_raw.to_numpy()    \n",
    "    X, y = np.split(data, [-1], axis=1)\n",
    "    \n",
    "    # Data imputation\n",
    "    imp = SimpleImputer(missing_values=np.nan, strategy='mean')\n",
    "    X = imp.fit_transform(X)\n",
    "    \n",
    "    # Min-max normalization to [0, 1]\n",
    "    scaler = MinMaxScaler()\n",
    "    X = scaler.fit_transform(X)\n",
    "    \n",
    "    # Dictionaries for storing the evaluation results\n",
    "    eval_results_ari = {}        # For adjusted Rand index\n",
    "    eval_results_dbi = {}        # For Davies-Bouldin index\n",
    "    \n",
    "    time_elapsed = {}\n",
    "    \n",
    "    X_tolist = X.tolist()\n",
    "    num_clusters = len(np.unique(y))\n",
    "    \n",
    "    # Iterate through all the distance metrics.\n",
    "    for distance_metric in metric_functions:\n",
    "        # Compute the inverse of the covariance matrix for Mahalanobis distance.\n",
    "        if distance_metric == 'mahalanobis': \n",
    "            global iv\n",
    "            \n",
    "            # Taken from https://github.com/scipy/scipy/blob/v1.8.0/scipy/spatial/distance.py#L246-L247\n",
    "            iv = np.linalg.pinv(np.atleast_2d(np.cov(X.astype(np.double, copy=False).T))).T.copy()\n",
    "        \n",
    "        metric_not_applicable = False\n",
    "        with warnings.catch_warnings(record=True) as w:\n",
    "            # Perform k-means clustering.\n",
    "            try:\n",
    "                clusters = k_means_cluster(X_tolist, num_clusters, get_metric_function(distance_metric))\n",
    "            except RuntimeWarning:\n",
    "                # Performing k-means runs into an error.\n",
    "                metric_not_applicable = True\n",
    "            \n",
    "            # Performing k-means runs into an error.\n",
    "            if len(w) > 0:\n",
    "                metric_not_applicable = True\n",
    "        \n",
    "        # Get the cluster assignments and ground-truth labels.\n",
    "        start_time = time.perf_counter()\n",
    "        cluster_mapping = get_cluster_mapping(len(X), clusters)\n",
    "        end_time = time.perf_counter()\n",
    "        \n",
    "        time_elapsed[distance_metric] = end_time - start_time\n",
    "        \n",
    "        ground_truth = get_ground_truth(data_raw)\n",
    "                \n",
    "        if metric_not_applicable:\n",
    "            eval_results_ari[distance_metric] = NOT_APPLICABLE\n",
    "            eval_results_dbi[distance_metric] = NOT_APPLICABLE\n",
    "        else:\n",
    "            # Evaluate the results of clustering.\n",
    "            eval_results_ari[distance_metric] = metrics.adjusted_rand_score(ground_truth, cluster_mapping)\n",
    "            \n",
    "            if len(np.unique(cluster_mapping)) < 2:\n",
    "                eval_results_dbi[distance_metric] = NOT_APPLICABLE\n",
    "            else:\n",
    "                eval_results_dbi[distance_metric] = metrics.davies_bouldin_score(X, cluster_mapping)\n",
    "                    \n",
    "    return eval_results_ari, eval_results_dbi, time_elapsed"
   ]
  },
  {
   "cell_type": "markdown",
   "metadata": {},
   "source": [
    "The function below is a utility method for logging the results of the $k$-means clustering to text files. For each dataset, three output files are produced, corresponding to the *(i)* performance based on ARI, *(ii)* performance based on DBI, and *(iii)* the time taken to perform $k$-means using each distance metric.\n",
    "\n",
    "**Parameter**:\n",
    "- `path`: Path to the text file\n",
    "- `str_data`: Results of the $k$-means clustering"
   ]
  },
  {
   "cell_type": "code",
   "execution_count": 14,
   "metadata": {},
   "outputs": [],
   "source": [
    "def labels_to_txt(path, str_data):\n",
    "    f = open(f\"{path}\", \"w\")\n",
    "    f.write(str_data)\n",
    "    f.close()"
   ]
  },
  {
   "cell_type": "markdown",
   "metadata": {},
   "source": [
    "The code below calls the previous methods to perform $k$-means clustering on the datasets and log the results to text files. It assumes that the datasets are stored in the folder `final_datasets` and that the output files will be saved inside the folder `dataset_labels/txt_indiv`. "
   ]
  },
  {
   "cell_type": "code",
   "execution_count": 15,
   "metadata": {},
   "outputs": [
    {
     "name": "stdout",
     "output_type": "stream",
     "text": [
      "./dataset_labels/txt_indiv/online_shoppers_intention1_one_hot_time.txt\n",
      "./dataset_labels/txt_indiv/online_shoppers_intention_one_hot_time.txt\n"
     ]
    }
   ],
   "source": [
    "folder = 'new_folder'\n",
    "datasets = listdir(folder)\n",
    "\n",
    "warnings.filterwarnings(\"error\")\n",
    "\n",
    "# Number of batches into which the datasets will be split\n",
    "NUMBER_OF_BATCHES = 5\n",
    "\n",
    "batched_datasets = np.array_split(datasets, NUMBER_OF_BATCHES)\n",
    "\n",
    "# Current batch to be processed\n",
    "current_batch = 0\n",
    "\n",
    "for i, datasets in enumerate(batched_datasets[current_batch:]):\n",
    "    for dataset in datasets:    \n",
    "        # Label the dataset with the pertinent distance metrics.\n",
    "        ari, dbs, time_elapsed = label_dataset(f\"{folder}/{dataset}\")\n",
    "\n",
    "        # Create file paths for the logging the results.\n",
    "        filename, ext = dataset.rsplit('.', 1)\n",
    "        ari_path =  f\"./dataset_labels/txt_indiv/{filename}_ari.txt\"\n",
    "        dbs_path = f\"./dataset_labels/txt_indiv/{filename}_dbs.txt\"\n",
    "        time_path = f\"./dataset_labels/txt_indiv/{filename}_time.txt\"\n",
    "        \n",
    "        # Save the results to text files.\n",
    "        labels_to_txt(ari_path, str(ari))\n",
    "        labels_to_txt(dbs_path, str(dbs))\n",
    "        labels_to_txt(time_path, str(time_elapsed))"
   ]
  },
  {
   "cell_type": "markdown",
   "metadata": {},
   "source": [
    "The code below consolidates the [output text files](https://github.com/memgonzales/meta-learning-clustering/tree/master/dataset_labels) into a [single CSV file](https://github.com/memgonzales/meta-learning-clustering/blob/master/dataset_labels/csv_collated/results_all_metrics.csv) with filename `results_all_metrics.csv` and with the following columns:\n",
    "- Name of dataset\n",
    "- Best distance metric based on ARI\n",
    "- ARI value when the best distance betric based on ARI is used\n",
    "- Best distance metric based on DBI\n",
    "- DBI value when the best distance betric based on ARI is used\n",
    "- Worst distance metric based on ARI\n",
    "- ARI value when the worst distance betric based on ARI is used\n",
    "- Worst distance metric based on DBI\n",
    "- DBI value when the worst distance betric based on ARI is used\n",
    "\n",
    "Note that:\n",
    "- For ARI, higher values denote better clustering quality.\n",
    "- For DBI, lower values denote better clustering quality.\n",
    "- Since the study is a essentially a multiclass classification task, ties in the selection of the best metric are broken by choosing the distance metric that requires a lower runtime (measured empirically).\n",
    "\n",
    "It is assumed that the output text files are in the folder `dataset_labels/txt_indiv` and that the consolidated CSV file will be stored in the folder `dataset_labels/csv_collated`."
   ]
  },
  {
   "cell_type": "code",
   "execution_count": 69,
   "metadata": {},
   "outputs": [],
   "source": [
    "folder = \"dataset_labels/txt_indiv\"\n",
    "datasets = listdir(folder)\n",
    "\n",
    "NOT_APPLICABLE = \"NOT_APPLICABLE\"\n",
    "\n",
    "# Number of output text files for each dataset (ARI, DBS, and time elapsed)\n",
    "CHUNKED_BY = 3 \n",
    "chunked_datasets=[datasets[i:i + CHUNKED_BY] for i in range(0, len(datasets), CHUNKED_BY)]\n",
    "\n",
    "HEADER = \"dataset,best_dist_metric_ari,best_dist_metric_ari_eval,best_dist_metric_dbs,best_dist_metric_dbs_eval,worst_dist_metric_ari,worst_dist_metric_ari_eval,worst_dist_metric_dbs,worst_dist_metric_dbs_eval\\n\"\n",
    "f_out = open('./dataset_labels/csv_collated/results_all_metrics.csv', 'w')\n",
    "f_out.write(HEADER)\n",
    "\n",
    "for dataset in chunked_datasets:\n",
    "    ari, dbs, time_elapsed = dataset[0], dataset[1], dataset[2]\n",
    "\n",
    "    # Convert text files to dictionaries.\n",
    "    f_ari = open(f\"./dataset_labels/txt_indiv/{ari}\", \"r\")\n",
    "    ari_dict = f_ari.read()\n",
    "    ari_dict = ari_dict.replace(\"'\", '\"')\n",
    "    ari_dict = json.loads(ari_dict)\n",
    "    f_ari.close()\n",
    "\n",
    "    f_dbs = open(f\"./dataset_labels/txt_indiv/{dbs}\", \"r\")\n",
    "    dbs_dict = f_dbs.read()\n",
    "    dbs_dict = dbs_dict.replace(\"'\", '\"')\n",
    "    dbs_dict = json.loads(dbs_dict)\n",
    "    f_dbs.close()\n",
    "\n",
    "    f_time = open(f\"./dataset_labels/txt_indiv/{time_elapsed}\", \"r\")\n",
    "    time_dict = f_time.read()\n",
    "    time_dict = time_dict.replace(\"'\", '\"')\n",
    "    time_dict = json.loads(time_dict)\n",
    "    f_time.close()\n",
    "\n",
    "    ari_sorted = []\n",
    "    dbs_sorted = []\n",
    "\n",
    "    # Convert dictionaries to arrays of the form\n",
    "    # [key, perfomance, time].\n",
    "    for key in ari_dict.keys():\n",
    "        if ari_dict[key] != NOT_APPLICABLE:\n",
    "            ari_sorted.append([key, ari_dict[key], time_dict[key]])\n",
    "        if dbs_dict[key] != NOT_APPLICABLE:\n",
    "            dbs_sorted.append([key, dbs_dict[key], time_dict[key]])\n",
    "                    \n",
    "    # Sort arrays by performance (best to worst) then by time (fastest to slowest).\n",
    "    ari_sorted.sort(key=lambda items: (items[1], -items[2]), reverse = True)\n",
    "    dbs_sorted.sort(key=lambda items: (items[1], items[2]))\n",
    "\n",
    "    filename, _ = ari.rsplit('_', 1)\n",
    "\n",
    "    # Get the best distance metric based on ARI\n",
    "    ari_len = len(ari_sorted)\n",
    "    if ari_len != 0:\n",
    "        best_dist_metric_ari = ari_sorted[0][0]\n",
    "        best_dist_metric_ari_eval = ari_sorted[0][1]\n",
    "    else:\n",
    "        best_dist_metric_ari = NOT_APPLICABLE\n",
    "        best_dist_metric_ari_eval = NOT_APPLICABLE\n",
    "    \n",
    "    # Get the best distance metric based on DBS\n",
    "    dbs_len = len(dbs_sorted)\n",
    "    if dbs_len != 0:\n",
    "        best_dist_metric_dbs = dbs_sorted[0][0]\n",
    "        best_dist_metric_dbs_eval = dbs_sorted[0][1]\n",
    "    else:\n",
    "        best_dist_metric_dbs = NOT_APPLICABLE\n",
    "        best_dist_metric_dbs_eval = NOT_APPLICABLE\n",
    "\n",
    "    # Get the worst distance metric based on ARI\n",
    "    if ari_len != 0:\n",
    "        worst_dist_metric_ari = ari_sorted[ari_len - 1][0]\n",
    "        worst_dist_metric_ari_eval = ari_sorted[ari_len - 1][1]\n",
    "    else:\n",
    "        worst_dist_metric_ari = NOT_APPLICABLE\n",
    "        worst_dist_metric_ari_eval = NOT_APPLICABLE\n",
    "\n",
    "    # Get the worst distance metric based on DBS\n",
    "    if dbs_len != 0:\n",
    "        worst_dist_metric_dbs = dbs_sorted[dbs_len - 1][0]\n",
    "        worst_dist_metric_dbs_eval = dbs_sorted[dbs_len - 1][1]\n",
    "    else:\n",
    "        worst_dist_metric_dbs = NOT_APPLICABLE\n",
    "        worst_dist_metric_dbs_eval = NOT_APPLICABLE\n",
    "\n",
    "    DATA = f\"{filename},{best_dist_metric_ari},{best_dist_metric_ari_eval},{best_dist_metric_dbs},{best_dist_metric_dbs_eval},{worst_dist_metric_ari},{worst_dist_metric_ari_eval},{worst_dist_metric_dbs},{worst_dist_metric_dbs_eval}\\n\"\n",
    "    f_out.write(DATA)\n",
    "\n",
    "f_out.close()"
   ]
  },
  {
   "cell_type": "markdown",
   "metadata": {},
   "source": [
    "<hr>"
   ]
  },
  {
   "cell_type": "markdown",
   "metadata": {},
   "source": [
    "## PART III: Reclustering of the Datasets"
   ]
  },
  {
   "cell_type": "code",
   "execution_count": 62,
   "metadata": {},
   "outputs": [
    {
     "data": {
      "text/html": [
       "<div>\n",
       "<style scoped>\n",
       "    .dataframe tbody tr th:only-of-type {\n",
       "        vertical-align: middle;\n",
       "    }\n",
       "\n",
       "    .dataframe tbody tr th {\n",
       "        vertical-align: top;\n",
       "    }\n",
       "\n",
       "    .dataframe thead th {\n",
       "        text-align: right;\n",
       "    }\n",
       "</style>\n",
       "<table border=\"1\" class=\"dataframe\">\n",
       "  <thead>\n",
       "    <tr style=\"text-align: right;\">\n",
       "      <th></th>\n",
       "      <th>dataset</th>\n",
       "      <th>best_dist_metric_ari</th>\n",
       "      <th>best_dist_metric_ari_eval</th>\n",
       "      <th>best_dist_metric_dbs</th>\n",
       "      <th>best_dist_metric_dbs_eval</th>\n",
       "      <th>worst_dist_metric_ari</th>\n",
       "      <th>worst_dist_metric_ari_eval</th>\n",
       "      <th>worst_dist_metric_dbs</th>\n",
       "      <th>worst_dist_metric_dbs_eval</th>\n",
       "    </tr>\n",
       "  </thead>\n",
       "  <tbody>\n",
       "    <tr>\n",
       "      <th>0</th>\n",
       "      <td>a1_raw</td>\n",
       "      <td>chebyshev</td>\n",
       "      <td>0.199553</td>\n",
       "      <td>euclidean</td>\n",
       "      <td>1.563114</td>\n",
       "      <td>standardized_euclidean</td>\n",
       "      <td>-0.001595</td>\n",
       "      <td>mahalanobis</td>\n",
       "      <td>3.151034</td>\n",
       "    </tr>\n",
       "    <tr>\n",
       "      <th>1</th>\n",
       "      <td>a1_va3</td>\n",
       "      <td>cosine</td>\n",
       "      <td>0.237339</td>\n",
       "      <td>pearson</td>\n",
       "      <td>1.980815</td>\n",
       "      <td>standardized_euclidean</td>\n",
       "      <td>-0.000121</td>\n",
       "      <td>canberra</td>\n",
       "      <td>4.132754</td>\n",
       "    </tr>\n",
       "    <tr>\n",
       "      <th>2</th>\n",
       "      <td>a2_raw</td>\n",
       "      <td>canberra</td>\n",
       "      <td>0.359592</td>\n",
       "      <td>chebyshev</td>\n",
       "      <td>1.302162</td>\n",
       "      <td>standardized_euclidean</td>\n",
       "      <td>-0.001409</td>\n",
       "      <td>mahalanobis</td>\n",
       "      <td>1.948717</td>\n",
       "    </tr>\n",
       "    <tr>\n",
       "      <th>3</th>\n",
       "      <td>a2_va3</td>\n",
       "      <td>cosine</td>\n",
       "      <td>0.182077</td>\n",
       "      <td>pearson</td>\n",
       "      <td>1.860610</td>\n",
       "      <td>standardized_euclidean</td>\n",
       "      <td>-0.001797</td>\n",
       "      <td>canberra</td>\n",
       "      <td>3.355306</td>\n",
       "    </tr>\n",
       "    <tr>\n",
       "      <th>4</th>\n",
       "      <td>a3_raw</td>\n",
       "      <td>euclidean</td>\n",
       "      <td>0.287089</td>\n",
       "      <td>euclidean</td>\n",
       "      <td>1.359764</td>\n",
       "      <td>standardized_euclidean</td>\n",
       "      <td>-0.000378</td>\n",
       "      <td>mahalanobis</td>\n",
       "      <td>2.730803</td>\n",
       "    </tr>\n",
       "    <tr>\n",
       "      <th>...</th>\n",
       "      <td>...</td>\n",
       "      <td>...</td>\n",
       "      <td>...</td>\n",
       "      <td>...</td>\n",
       "      <td>...</td>\n",
       "      <td>...</td>\n",
       "      <td>...</td>\n",
       "      <td>...</td>\n",
       "      <td>...</td>\n",
       "    </tr>\n",
       "    <tr>\n",
       "      <th>335</th>\n",
       "      <td>winequality-white</td>\n",
       "      <td>euclidean</td>\n",
       "      <td>0.041872</td>\n",
       "      <td>euclidean</td>\n",
       "      <td>1.780022</td>\n",
       "      <td>standardized_euclidean</td>\n",
       "      <td>0.000000</td>\n",
       "      <td>canberra</td>\n",
       "      <td>3.004119</td>\n",
       "    </tr>\n",
       "    <tr>\n",
       "      <th>336</th>\n",
       "      <td>wine</td>\n",
       "      <td>canberra</td>\n",
       "      <td>0.046130</td>\n",
       "      <td>canberra</td>\n",
       "      <td>1.308862</td>\n",
       "      <td>mahalanobis</td>\n",
       "      <td>-0.007518</td>\n",
       "      <td>mahalanobis</td>\n",
       "      <td>1.920065</td>\n",
       "    </tr>\n",
       "    <tr>\n",
       "      <th>337</th>\n",
       "      <td>wisconsin</td>\n",
       "      <td>cosine</td>\n",
       "      <td>0.037550</td>\n",
       "      <td>manhattan</td>\n",
       "      <td>1.682554</td>\n",
       "      <td>canberra</td>\n",
       "      <td>-0.001336</td>\n",
       "      <td>mahalanobis</td>\n",
       "      <td>4.262601</td>\n",
       "    </tr>\n",
       "    <tr>\n",
       "      <th>338</th>\n",
       "      <td>Zemberek-Stemmed</td>\n",
       "      <td>cosine</td>\n",
       "      <td>0.541358</td>\n",
       "      <td>manhattan</td>\n",
       "      <td>0.870462</td>\n",
       "      <td>standardized_euclidean</td>\n",
       "      <td>0.000000</td>\n",
       "      <td>cosine</td>\n",
       "      <td>10.894565</td>\n",
       "    </tr>\n",
       "    <tr>\n",
       "      <th>339</th>\n",
       "      <td>zoo_one_hot</td>\n",
       "      <td>manhattan</td>\n",
       "      <td>1.000000</td>\n",
       "      <td>chebyshev</td>\n",
       "      <td>0.915231</td>\n",
       "      <td>standardized_euclidean</td>\n",
       "      <td>0.000000</td>\n",
       "      <td>mahalanobis</td>\n",
       "      <td>4.308508</td>\n",
       "    </tr>\n",
       "  </tbody>\n",
       "</table>\n",
       "<p>340 rows × 9 columns</p>\n",
       "</div>"
      ],
      "text/plain": [
       "               dataset best_dist_metric_ari  best_dist_metric_ari_eval  \\\n",
       "0               a1_raw            chebyshev                   0.199553   \n",
       "1               a1_va3               cosine                   0.237339   \n",
       "2               a2_raw             canberra                   0.359592   \n",
       "3               a2_va3               cosine                   0.182077   \n",
       "4               a3_raw            euclidean                   0.287089   \n",
       "..                 ...                  ...                        ...   \n",
       "335  winequality-white            euclidean                   0.041872   \n",
       "336               wine             canberra                   0.046130   \n",
       "337          wisconsin               cosine                   0.037550   \n",
       "338   Zemberek-Stemmed               cosine                   0.541358   \n",
       "339        zoo_one_hot            manhattan                   1.000000   \n",
       "\n",
       "    best_dist_metric_dbs  best_dist_metric_dbs_eval   worst_dist_metric_ari  \\\n",
       "0              euclidean                   1.563114  standardized_euclidean   \n",
       "1                pearson                   1.980815  standardized_euclidean   \n",
       "2              chebyshev                   1.302162  standardized_euclidean   \n",
       "3                pearson                   1.860610  standardized_euclidean   \n",
       "4              euclidean                   1.359764  standardized_euclidean   \n",
       "..                   ...                        ...                     ...   \n",
       "335            euclidean                   1.780022  standardized_euclidean   \n",
       "336             canberra                   1.308862             mahalanobis   \n",
       "337            manhattan                   1.682554                canberra   \n",
       "338            manhattan                   0.870462  standardized_euclidean   \n",
       "339            chebyshev                   0.915231  standardized_euclidean   \n",
       "\n",
       "     worst_dist_metric_ari_eval worst_dist_metric_dbs  \\\n",
       "0                     -0.001595           mahalanobis   \n",
       "1                     -0.000121              canberra   \n",
       "2                     -0.001409           mahalanobis   \n",
       "3                     -0.001797              canberra   \n",
       "4                     -0.000378           mahalanobis   \n",
       "..                          ...                   ...   \n",
       "335                    0.000000              canberra   \n",
       "336                   -0.007518           mahalanobis   \n",
       "337                   -0.001336           mahalanobis   \n",
       "338                    0.000000                cosine   \n",
       "339                    0.000000           mahalanobis   \n",
       "\n",
       "     worst_dist_metric_dbs_eval  \n",
       "0                      3.151034  \n",
       "1                      4.132754  \n",
       "2                      1.948717  \n",
       "3                      3.355306  \n",
       "4                      2.730803  \n",
       "..                          ...  \n",
       "335                    3.004119  \n",
       "336                    1.920065  \n",
       "337                    4.262601  \n",
       "338                   10.894565  \n",
       "339                    4.308508  \n",
       "\n",
       "[340 rows x 9 columns]"
      ]
     },
     "execution_count": 62,
     "metadata": {},
     "output_type": "execute_result"
    }
   ],
   "source": [
    "clustering_results = pd.read_csv('dataset_labels/csv_collated/results_all_metrics.csv')\n",
    "clustering_results"
   ]
  },
  {
   "cell_type": "code",
   "execution_count": 63,
   "metadata": {},
   "outputs": [
    {
     "data": {
      "text/plain": [
       "manhattan                 90\n",
       "mahalanobis               65\n",
       "euclidean                 46\n",
       "canberra                  41\n",
       "chebyshev                 29\n",
       "cosine                    24\n",
       "adjusted-cosine           24\n",
       "pearson                   11\n",
       "standardized_euclidean    10\n",
       "Name: best_dist_metric_ari, dtype: int64"
      ]
     },
     "execution_count": 63,
     "metadata": {},
     "output_type": "execute_result"
    }
   ],
   "source": [
    "clustering_results['best_dist_metric_ari'].value_counts()"
   ]
  },
  {
   "cell_type": "code",
   "execution_count": 64,
   "metadata": {},
   "outputs": [
    {
     "data": {
      "text/plain": [
       "chebyshev          123\n",
       "euclidean           88\n",
       "manhattan           57\n",
       "canberra            20\n",
       "cosine              17\n",
       "mahalanobis         17\n",
       "pearson              9\n",
       "adjusted-cosine      9\n",
       "Name: best_dist_metric_dbs, dtype: int64"
      ]
     },
     "execution_count": 64,
     "metadata": {},
     "output_type": "execute_result"
    }
   ],
   "source": [
    "clustering_results['best_dist_metric_dbs'].value_counts()"
   ]
  },
  {
   "cell_type": "code",
   "execution_count": 65,
   "metadata": {},
   "outputs": [
    {
     "name": "stdout",
     "output_type": "stream",
     "text": [
      "[['manhattan', 1.646078756495926, 0.0003126999999949476], ['euclidean', 1.5631141107350428, 0.0005911000000082822], ['chebyshev', 1.6930221252122728, 0.0002513000000021748]]\n",
      "[['manhattan', 2.1808200807132536, 0.00022849999999152715], ['euclidean', 2.1032708493554537, 0.0007823999999914122], ['chebyshev', 2.6724410180884806, 0.0005093999999985499]]\n",
      "[['manhattan', 1.7954272655665566, 0.00048300000000267573], ['euclidean', 1.6995370572232396, 0.00020169999999097854], ['chebyshev', 1.3021618833967545, 0.0005204999999932625]]\n",
      "[['manhattan', 2.1434945749878582, 0.00013919999997824561], ['euclidean', 2.5026912833489154, 0.00017139999999926658], ['chebyshev', 3.29193062953697, 0.00017909999999687898]]\n",
      "[['manhattan', 1.4182891930178894, 0.0008007000000134212], ['euclidean', 1.359764424296365, 0.00029230000001234657], ['chebyshev', 1.4377211118281037, 0.0003489999999999327]]\n",
      "[['manhattan', 2.0908212851116668, 0.00023440000001073713], ['euclidean', 1.9906251026764672, 0.0004868999999985135], ['chebyshev', 2.9703566009208093, 0.0002800999999976739]]\n",
      "[['manhattan', 0.9102401478257564, 0.022964900000005173], ['euclidean', 1.0042486601717098, 0.02708639999998752], ['chebyshev', 1.087587810359238, 0.028297100000003184]]\n",
      "[['manhattan', 1.1431794308230436, 0.01570780000000127], ['euclidean', 1.0831376633018481, 0.03739980000000287], ['chebyshev', 1.1993779827466453, 0.05108849999999876]]\n",
      "[['manhattan', 1.0762130819955262, 0.01922100000001592], ['euclidean', 0.9995189319261378, 0.020397900000034497], ['chebyshev', 1.1527044984620363, 0.02203109999982189]]\n",
      "[['manhattan', 0.9483199980937852, 0.011146099999677972], ['euclidean', 0.9307706086198061, 0.010582099999737693], ['chebyshev', 0.9948104945915622, 0.010962100000142527]]\n",
      "[['manhattan', 1.1273747416332867, 0.02367580000009184], ['euclidean', 0.9226041122495598, 0.02121640000041225], ['chebyshev', 1.0287961501644949, 0.020721099999718717]]\n",
      "[['manhattan', 1.1460664065890678, 0.017415999998775078], ['euclidean', 1.1044535109740239, 0.018936500000563683], ['chebyshev', 1.0990113674941446, 0.017638600000282167]]\n",
      "[['manhattan', 1.082287181022881, 0.030754899999990926], ['euclidean', 0.9626301149702249, 0.05857149999999933], ['chebyshev', 1.0528702645591872, 0.029604400000010855]]\n",
      "[['manhattan', 1.0471554510529728, 0.023047000000133266], ['euclidean', 1.0303078285250247, 0.024553499999910855], ['chebyshev', 1.0284939065062477, 0.022860400000354275]]\n",
      "[['manhattan', 1.1339842533540379, 0.018238600000586302], ['euclidean', 1.0109215833173537, 0.019218999999793596], ['chebyshev', 1.1823882566852568, 0.018183000000135507]]\n",
      "[['manhattan', 1.0469538368504696, 0.019606199999543605], ['euclidean', 1.0611178475973118, 0.022240499998588348], ['chebyshev', 1.1143022664194873, 0.022753600000214647]]\n",
      "[['manhattan', 0.9069059718346824, 0.026496599999518367], ['euclidean', 0.8683443163170151, 0.03037130000120669], ['chebyshev', 0.9016576244105095, 0.025165900000502006]]\n",
      "[['manhattan', 0.9846496661228444, 0.025952099999813072], ['euclidean', 0.9710539019733178, 0.02434030000040366], ['chebyshev', 1.052603651086101, 0.025482600000032107]]\n",
      "[['manhattan', 1.0555280527279298, 0.029299399999217712], ['euclidean', 0.9977036197079839, 0.030044099999940954], ['chebyshev', 1.0304346733647276, 0.030588499999794294]]\n",
      "[['manhattan', 0.7961001191368946, 0.023994600000150967], ['euclidean', 0.7596288794978845, 0.024914000001444947], ['chebyshev', 0.8699779071399345, 0.026276800001141964]]\n",
      "[['manhattan', 1.0156730407487429, 0.0246977999995579], ['euclidean', 0.893043254547575, 0.024299799999425886], ['chebyshev', 1.178896708292443, 0.016391399996791733]]\n",
      "[['manhattan', 2.214487051294135, 0.0046912000000247644], ['euclidean', 2.053933356786468, 0.009858699999995224], ['chebyshev', 1.0245560844290968, 0.005571999999801847]]\n",
      "[['manhattan', 3.0611375444471776, 0.012954100000001745], ['euclidean', 2.9962327852742425, 0.022711800000024596], ['chebyshev', 4.484768581295109, 0.022313999999994394]]\n",
      "[['manhattan', 3.4774745245931995, 6.890000003068053e-05], ['euclidean', 3.4774745245931995, 8.349999995971302e-05], ['chebyshev', 0.9978923940072209, 6.300000001147055e-05]]\n",
      "[['manhattan', 3.4774745245931995, 6.709999996701299e-05], ['euclidean', 3.4774745245931995, 6.439999998519852e-05], ['chebyshev', 0.9978923940072209, 0.00015059999998356943]]\n",
      "[['manhattan', 3.4752867029884276, 5.9399999997822306e-05], ['euclidean', 3.4752867029884276, 0.00014549999997370833], ['chebyshev', 0.997775166045957, 5.440000001044609e-05]]\n",
      "[['manhattan', 1.6460116911906604, 1.8699999998261774e-05], ['euclidean', 2.808850095919717, 1.850000001013541e-05], ['chebyshev', 1.0467794359408715, 3.209999999853608e-05]]\n",
      "[['manhattan', 1.6562441261840504, 2.069999999321226e-05], ['euclidean', 1.6562441261840504, 2.1800000013172394e-05], ['chebyshev', 1.049338102520191, 2.0899999981338624e-05]]\n",
      "[['manhattan', 0.43767915509930316, 4.369999999198626e-05], ['euclidean', 0.43767915509930316, 4.409999996823899e-05], ['chebyshev', 0.43767915509930316, 2.8000000042993634e-05]]\n",
      "[['manhattan', 1.8439088914585773, 1.9300000019484287e-05], ['euclidean', 1.8439088914585773, 1.9199999996999395e-05], ['chebyshev', 0.9899447423839529, 2.0599999970727367e-05]]\n",
      "[['manhattan', 0.5110124074470102, 1.7800000023271423e-05], ['euclidean', 0.5110124074470102, 2.0100000028833165e-05], ['chebyshev', 0.6857004097136942, 2.0000000006348273e-05]]\n",
      "[['manhattan', 2.387467277262664, 0.00011319999998704589], ['euclidean', 2.387467277262664, 5.5799999984174065e-05], ['chebyshev', 0.9974965931217313, 5.7599999990998185e-05]]\n",
      "[['manhattan', 1.6475818465419672, 6.270000000085929e-05], ['euclidean', 1.6475818465419672, 3.4999999968476914e-05], ['chebyshev', 0.98572706634299, 1.8599999975776882e-05]]\n",
      "[['manhattan', 0.43608664812625114, 3.9899999990211654e-05], ['euclidean', 0.43608664812625114, 3.720000000839718e-05], ['chebyshev', 0.43608664812625114, 6.279999996650076e-05]]\n",
      "[['manhattan', 1.5916586242072606, 1.7499999955816747e-05], ['euclidean', 1.5916586242072606, 1.8800000020746666e-05], ['chebyshev', 1.0695845366388328, 1.850000001013541e-05]]\n",
      "[['manhattan', 1.3693169660272575, 1.6499999958341505e-05], ['euclidean', 1.3693169660272575, 1.7000000013922545e-05], ['chebyshev', 1.0317095334387205, 1.7799999966428004e-05]]\n",
      "[['manhattan', 0.8804283445947751, 2.2199999989425123e-05], ['euclidean', 0.8786499431881885, 2.4600000017471757e-05], ['chebyshev', 0.8786499431881885, 4.3900000036956044e-05]]\n",
      "[['manhattan', 1.9274243641551736, 5.520000001979497e-05], ['euclidean', 1.9274243641551736, 6.46000000301683e-05], ['chebyshev', 0.9805778201585567, 7.109999995691396e-05]]\n",
      "[['manhattan', 0.5092029114580937, 3.140000001167209e-05], ['euclidean', 0.5277637849787465, 7.779999998547282e-05], ['chebyshev', 0.5527949583116387, 7.410000000618311e-05]]\n",
      "[['manhattan', 1.1436578504975194, 1.9199999996999395e-05], ['euclidean', 1.144161294064025, 3.2000000032894604e-05], ['chebyshev', 2.353512719296167, 1.720000000204891e-05]]\n",
      "[['manhattan', 0.9045143093069561, 1.950000000761065e-05], ['euclidean', 0.9045143093069561, 1.810000003388268e-05], ['chebyshev', 1.1587767623932324, 1.73000000245338e-05]]\n",
      "[['manhattan', 0.9543371793133519, 1.6200000004573667e-05], ['euclidean', 1.0488948257656967, 3.680000003214445e-05], ['chebyshev', 1.2962084211926752, 1.6099999982088775e-05]]\n",
      "[['manhattan', 2.384800634394157, 2.2199999875738285e-05], ['euclidean', 2.384800634394157, 3.0599999945479794e-05], ['chebyshev', 1.4529321422185562, 2.1500000002561137e-05]]\n",
      "[['manhattan', 2.1043152482781187, 0.00023669999995945545], ['euclidean', 2.1705433064623367, 0.00022780000017519342], ['chebyshev', 1.011180103764901, 0.00013909999984207388]]\n",
      "[['manhattan', 1.4269130113401054, 2.390000003060777e-05], ['euclidean', 1.4257273660590077, 6.660000002511879e-05], ['chebyshev', 1.3231381409778293, 6.819999998697313e-05]]\n",
      "[['manhattan', 1.525442754544444, 0.0003232999999909225], ['euclidean', 1.198225671618009, 0.00031859999995731414], ['chebyshev', 1.4232866442277923, 0.00019190000000435248]]\n",
      "[['manhattan', 1.7690757286092886, 0.00014799999996739643], ['euclidean', 1.6889334010254529, 0.0001584999999977299], ['chebyshev', 1.8900535842036277, 0.0005506999999624895]]\n",
      "[['manhattan', 1.5538474749608242, 0.00022030000002359884], ['euclidean', 1.474452249148974, 0.00030079999999088614], ['chebyshev', 1.521788152246834, 0.00042370000005576003]]\n",
      "[['manhattan', 1.9460614859683638, 0.0002230000000054133], ['euclidean', 1.8956012082137146, 0.00047410000001946173], ['chebyshev', 3.031038076372662, 0.00041769999995722173]]\n",
      "[['manhattan', 2.324153882487933, 7.169999992129306e-05], ['euclidean', 2.7146344606795427, 6.330000007892522e-05], ['chebyshev', 0.9825636914043983, 3.179999998792482e-05]]\n",
      "[['manhattan', 1.3065235779581132, 4.3500000060703314e-05], ['euclidean', 1.3065235779581132, 4.309999997076375e-05], ['chebyshev', 1.209421099955017, 4.6600000018770515e-05]]\n",
      "[['manhattan', 1.4387371116149124, 0.0016447999998945306], ['euclidean', 1.5134152191114911, 0.0020285999999032356], ['chebyshev', 1.555798767506445, 0.0015826999999717373]]\n"
     ]
    },
    {
     "name": "stdout",
     "output_type": "stream",
     "text": [
      "[['manhattan', 2.815529568833748, 0.008205400000178997], ['euclidean', 2.803957441132023, 0.006709699999873919], ['chebyshev', 1.2006620989253969, 0.0062748000000283355]]\n",
      "[['manhattan', 1.2160339968154399, 7.199999981821747e-05], ['euclidean', 1.2160339968154399, 4.500000000007276e-05], ['chebyshev', 2.032137123714029, 4.73000000056345e-05]]\n",
      "[['manhattan', 1.1216958516024238, 0.0019418000001678593], ['euclidean', 1.0707723814339092, 0.001750599999922997], ['chebyshev', 1.488005803360689, 0.004280399999970541]]\n",
      "[['manhattan', 1.234131202928618, 4.81000000718268e-05], ['euclidean', 1.23963200756673, 3.479999998035055e-05], ['chebyshev', 2.6102099282057085, 3.550000008090137e-05]]\n",
      "[['manhattan', 1.1256411003053197, 9.84000002972607e-05], ['euclidean', 1.1363352910881965, 0.00010000000020227162], ['chebyshev', 1.3609941956795688, 0.00016400000004068715]]\n",
      "[['manhattan', 1.5470592609730471, 0.0003907000000253902], ['euclidean', 2.1885953501541477, 0.00023600000031365198], ['chebyshev', 2.229612300368014, 0.00834770000028584]]\n",
      "[['manhattan', 1.5548002192977801, 0.00014020000003256428], ['euclidean', 1.7621862182172436, 0.00013190000004215108], ['chebyshev', 1.931793725664256, 0.00016119999997954437]]\n",
      "[['manhattan', 2.045255746779234, 0.00017710000008719362], ['euclidean', 2.2303469150271695, 0.0005284000000074229], ['chebyshev', 2.985693115106523, 0.00021070000002509914]]\n",
      "[['manhattan', 1.3178222453280217, 0.00024519999999483844], ['euclidean', 1.3573964563197982, 0.0002577000000201224], ['chebyshev', 1.3966068952418846, 0.0003638000000592001]]\n",
      "[['manhattan', 1.9785580306070183, 0.00022930000000087603], ['euclidean', 2.0774222236056175, 0.0004895000000715299], ['chebyshev', 2.980575395831127, 0.0006720999999743071]]\n",
      "[['manhattan', 2.3581830582048164, 0.00011470000004010217], ['euclidean', 2.0521362723937067, 7.070000003750465e-05], ['chebyshev', 1.0380156743769953, 0.0001713000000336251]]\n",
      "[['manhattan', 1.1256411003053204, 9.999999974752427e-05], ['euclidean', 1.136335291088197, 0.00016310000000885339], ['chebyshev', 1.3609941956795684, 0.00010549999979048152]]\n",
      "[['manhattan', 1.3405569899305616, 5.419999990863289e-05], ['euclidean', 2.4620344527822176, 0.00010350000002290471], ['chebyshev', 1.2075845884901122, 0.00011160000008203497]]\n",
      "[['manhattan', 3.0299716865271393, 0.0027098999998997897], ['euclidean', 3.0299716865271393, 0.0018633999998201034], ['chebyshev', 1.1147366468910986, 0.0015921999997772218]]\n",
      "[['manhattan', 2.0955276391991857, 0.020050200000241603], ['euclidean', 1.3480361227887674, 0.022880499999700987], ['chebyshev', 1.4182294334415881, 0.02392539999982546]]\n",
      "[['manhattan', 0.739404090053022, 2.6600000005316815e-05], ['euclidean', 0.7498801488949192, 6.979999999856545e-05], ['chebyshev', 0.7643580209134617, 7.159999999828415e-05]]\n",
      "[['manhattan', 1.1583034582220484, 2.2800000010647636e-05], ['euclidean', 1.1583034582220484, 3.7300000030882074e-05], ['chebyshev', 1.1827513122573683, 3.570000001218432e-05]]\n",
      "[['manhattan', 2.4448415316735486, 5.790000000160944e-05], ['euclidean', 2.2962617839064112, 6.740000003446767e-05], ['chebyshev', 2.65685513122639, 0.0001811000000770946]]\n",
      "[['manhattan', 2.9193851101039345, 5.050000004303001e-05], ['euclidean', 2.571492583053702, 4.999999998744897e-05], ['chebyshev', 3.5803913014959026, 5.599999997230043e-05]]\n",
      "[['manhattan', 2.4487305654604774, 5.480000004354224e-05], ['euclidean', 2.4424519826950934, 5.809999993289239e-05], ['chebyshev', 2.956414028552082, 5.0099999953090446e-05]]\n",
      "[['manhattan', 2.9368648758179807, 0.00033650000000307045], ['euclidean', 2.584617563926816, 6.220000000212167e-05], ['chebyshev', 3.1192941995723125, 6.729999995513936e-05]]\n",
      "[['manhattan', 1.1238550594412984, 7.159999995565158e-05], ['euclidean', 1.2040812278907511, 5.5800000041017483e-05], ['chebyshev', 1.5679383412865304, 5.420000002231973e-05]]\n",
      "[['manhattan', 0.7221498147469241, 2.7599999953054066e-05], ['euclidean', 0.7221498147469241, 2.7200000090488174e-05], ['chebyshev', 0.690797529815018, 3.979999996772676e-05]]\n",
      "[['manhattan', 1.1705532741119093, 6.009999999889715e-05], ['euclidean', 1.1627043588195025, 4.7600000002034903e-05], ['chebyshev', 1.1709131929563654, 6.919999999865922e-05]]\n",
      "[['manhattan', 2.6249251506817117, 6.629999995766411e-05], ['euclidean', 2.2180564630138218, 6.970000004002941e-05], ['chebyshev', 0.9978608879414285, 0.0001234000000067681]]\n",
      "[['manhattan', 1.9924117924104872, 0.00151400000004287], ['euclidean', 1.9924117924104872, 0.0015210999999908381], ['chebyshev', 1.2796652657797731, 0.0015297999998438172]]\n",
      "[['manhattan', 1.2899718976204522, 0.00030639999999948486], ['euclidean', 1.2747457849255286, 0.00016590000006999617], ['chebyshev', 1.713390193590966, 0.00016520000008313218]]\n",
      "[['manhattan', 1.8918655034506133, 7.379999999557185e-05], ['euclidean', 1.7210676971864522, 4.639999997380073e-05], ['chebyshev', 1.9490679607496353, 0.00014960000009978103]]\n",
      "[['manhattan', 2.147431449862979, 4.42000000475673e-05], ['euclidean', 2.143818894916822, 4.7399999971275975e-05], ['chebyshev', 0.9269862709407694, 4.99000000218075e-05]]\n",
      "[['manhattan', 0.5290826600737057, 5.020000003241876e-05], ['euclidean', 0.5290826600737057, 3.079999999044958e-05], ['chebyshev', 0.5290826600737057, 4.9200000034943514e-05]]\n",
      "[['manhattan', 1.0657160164808874, 0.00017980000029638177], ['euclidean', 1.4819676594093438, 0.00016969999978755368], ['chebyshev', 1.7995464654540474, 0.0001650000003792229]]\n",
      "[['manhattan', 2.25044028311165, 0.000140600000008817], ['euclidean', 2.1235662525509675, 0.000140600000008817], ['chebyshev', 2.3666220088619574, 0.0002557999999908134]]\n",
      "[['manhattan', 4.455575294428802, 0.0015696000000389176], ['euclidean', 3.3179453156296153, 0.003618599999754224], ['chebyshev', 1.7195429885821987, 0.0015696999998908723]]\n",
      "[['manhattan', 3.3294107452328534, 0.0008717999999134918], ['euclidean', 3.5642284801536674, 0.0008982999997897423], ['chebyshev', 0.9686858397756462, 0.000901000000339991]]\n",
      "[['manhattan', 3.1088420961550063, 3.479999998035055e-05], ['euclidean', 2.397725612247621, 8.50000000127693e-05], ['chebyshev', 1.1637537227770838, 3.609999998843705e-05]]\n",
      "[['manhattan', 2.90886076983587, 0.0018073999999614898], ['euclidean', 1.6980762944603607, 0.0015287999995052814], ['chebyshev', 1.333229860190054, 0.001691499999651569]]\n",
      "[['manhattan', 1.3713539807272457, 0.0005328999995981576], ['euclidean', 1.2672214188755568, 0.0003930000002583256], ['chebyshev', 1.1521339869523488, 0.00038550000044779154]]\n",
      "[['manhattan', 3.7911832634993647, 0.00046269999984360766], ['euclidean', 3.786472288167441, 0.0005067000001872657], ['chebyshev', 1.0359320214889884, 0.0013734000003751134]]\n",
      "[['manhattan', 1.7958131245562057, 0.00016400000004068715], ['euclidean', 1.7958131245562057, 0.0001627000001462875], ['chebyshev', 1.1626153252437363, 0.00016560000040044542]]\n",
      "[['manhattan', 6.83053702553838, 3.270000001975859e-05], ['euclidean', 6.966132268619099, 9.760000000369473e-05], ['chebyshev', 0.9678757817211536, 6.640000003699242e-05]]\n",
      "[['manhattan', 2.5961038465193855, 6.380000002081943e-05], ['euclidean', 2.604932748796462, 3.230000004350586e-05], ['chebyshev', 1.0831286135210294, 6.759999996575061e-05]]\n",
      "[['manhattan', 1.3628547489116412, 6.310000003395544e-05], ['euclidean', 1.2666983435027261, 0.00014920000000984146], ['chebyshev', 1.286991976585894, 7.060000007186318e-05]]\n",
      "[['manhattan', 2.128981063001736, 3.789999993841775e-05], ['euclidean', 2.113039232438165, 5.610000005162874e-05], ['chebyshev', 2.6885488777224995, 3.479999998035055e-05]]\n",
      "[['manhattan', 1.1348812602928604, 0.00011439999991580407], ['euclidean', 1.079856753485094, 4.500000000007276e-05], ['chebyshev', 1.5446231493186975, 9.570000008807256e-05]]\n",
      "[['manhattan', 0.8906872496143423, 5.620000000305936e-05], ['euclidean', 0.8862696100337246, 8.500000000566388e-05], ['chebyshev', 0.9054671391873238, 8.189999999785869e-05]]\n",
      "[['manhattan', 3.1323580885592084, 3.0199999969227065e-05], ['euclidean', 3.1077515437969754, 2.7599999953054066e-05], ['chebyshev', 1.0646113820079088, 4.2600000028869545e-05]]\n",
      "[['manhattan', 1.5997275663786878, 6.359999997584964e-05], ['euclidean', 1.5373825799295224, 7.34999999849606e-05], ['chebyshev', 1.8409983663146519, 6.280000002334418e-05]]\n",
      "[['manhattan', 1.3651024454884417, 6.729999995513936e-05], ['euclidean', 1.23226759394667, 6.510000002890592e-05], ['chebyshev', 1.3443533538195906, 6.150000001525768e-05]]\n",
      "[['manhattan', 0.6870562207528847, 5.69000000041342e-05], ['euclidean', 0.6707158142662735, 6.550000000515865e-05], ['chebyshev', 0.7756326676680814, 3.069999991112127e-05]]\n",
      "[['manhattan', 1.8432093109331007, 0.0005916000000070198], ['euclidean', 1.6171637347548407, 0.000325299999985873], ['chebyshev', 2.268248303505146, 0.0002154000000018641]]\n",
      "[['manhattan', 2.5364394177960072, 4.069999977218686e-05], ['euclidean', 2.5364394177960072, 4.2099999518541154e-05], ['chebyshev', 1.2794492907896204, 4.640000042854808e-05]]\n",
      "[['manhattan', 2.6788557739687233, 0.00015170000006037299], ['euclidean', 2.5503776276437176, 0.00013870000020688167], ['chebyshev', 1.0034026756956873, 9.28999997995561e-05]]\n"
     ]
    },
    {
     "name": "stdout",
     "output_type": "stream",
     "text": [
      "[['manhattan', 1.6352208903948475, 0.0003407000003790017], ['euclidean', 1.6007721081871649, 0.0003330999998070183], ['chebyshev', 2.010360598983815, 0.0004604999994626269]]\n",
      "[['manhattan', 0.7504185610713139, 0.00011730000005627517], ['euclidean', 0.7504185610713139, 7.329999971261714e-05], ['chebyshev', 0.7504185610713139, 8.309999975608662e-05]]\n",
      "[['manhattan', 1.3341842189035669, 9.15000000532018e-05], ['euclidean', 0.9787654220400803, 0.000127599999927952], ['chebyshev', 1.0660136250449714, 0.00010829999996531114]]\n",
      "[['manhattan', 0.5674865521254786, 3.3799999982875306e-05], ['euclidean', 0.5674865521254786, 3.509999987727497e-05], ['chebyshev', 0.5830865191327181, 3.509999987727497e-05]]\n",
      "[['manhattan', 1.5117030152839517, 0.00012110000000120635], ['euclidean', 1.3459964205619708, 0.0001238999999486623], ['chebyshev', 1.6812391240354494, 0.0001838999999108637]]\n",
      "[['manhattan', 2.953909589495183, 6.899999993947858e-05], ['euclidean', 2.911289174968647, 0.00021839999999428983], ['chebyshev', 0.994871340271372, 0.00019420000012360106]]\n",
      "[['manhattan', 0.7801807169336881, 0.00014529999998558196], ['euclidean', 0.7854366507294479, 0.00018049999994218524], ['chebyshev', 0.8145581233260063, 9.000000000014552e-05]]\n",
      "[['manhattan', 3.359661827530069, 0.0007224999999380088], ['euclidean', 3.393743621680526, 0.0007400999993478763], ['chebyshev', 0.8831919206583576, 0.000733399999262474]]\n",
      "[['manhattan', 1.292168624060095, 4.200000057608122e-05], ['euclidean', 1.292168624060095, 4.199999966658652e-05], ['chebyshev', 1.1739276860099055, 4.1000000237545464e-05]]\n",
      "[['manhattan', 0.8097362643354042, 0.00814109999964785], ['euclidean', 0.8359706669804055, 0.008356599999842729], ['chebyshev', 0.821714341971979, 0.008363200000076176]]\n",
      "[['manhattan', 1.3960346223335027, 6.389999999978357e-05], ['euclidean', 1.2477751043395948, 5.760000000076815e-05], ['chebyshev', 1.2495223582331687, 4.989999999960304e-05]]\n",
      "[['manhattan', 0.45881352163385264, 0.0003499999993437086], ['euclidean', 0.45881352163385264, 0.0003606999998737592], ['chebyshev', 0.6409206116655092, 0.00035010000010515796]]\n",
      "[['manhattan', 4.978412572611698, 0.00040750000061962055], ['euclidean', 3.5091405171388956, 0.00081659999978001], ['chebyshev', 1.212224642319442, 0.00039770000057615107]]\n",
      "[['manhattan', 2.281722841720977, 0.0008929000005082344], ['euclidean', 2.4764175711767598, 0.0007744000004095142], ['chebyshev', 1.2337329978115432, 0.0008013999995455379]]\n",
      "[['manhattan', 1.2754707971593655, 0.0002708000001803157], ['euclidean', 1.327688877712195, 0.00017130000014731195], ['chebyshev', 0.9732308599147348, 0.0002720000002227607]]\n",
      "[['manhattan', 0.6930245601612326, 1.5599999999338365e-05], ['euclidean', 0.685517209437216, 1.4999999999432134e-05], ['chebyshev', 0.6814472943922235, 3.0299999998817384e-05]]\n",
      "[['manhattan', 0.7920436809840211, 3.49000001733657e-05], ['euclidean', 0.7514831899777826, 3.689999994094251e-05], ['chebyshev', 0.8236085711269324, 5.239999973127851e-05]]\n",
      "[['manhattan', 2.4860943311584567, 2.4400000000923683e-05], ['euclidean', 2.5558982239184664, 2.5800000001297008e-05], ['chebyshev', 0.9375622138223143, 2.889999999844406e-05]]\n",
      "[['manhattan', 1.0093487306878914, 0.0007011000000005652], ['euclidean', 2.927330091787402, 0.0005118999999993434], ['chebyshev', 7.898529872221996, 0.0004892999999981384]]\n",
      "[['manhattan', 1.191994222218796, 0.00039759999999944284], ['euclidean', 2.2013358515020927, 0.00038190000000781765], ['chebyshev', 8.013342412039465, 0.00040029999999546817]]\n",
      "[['manhattan', 3.1062721212906843, 1.6200000118260505e-05], ['euclidean', 3.0603890805848932, 1.5300000086426735e-05], ['chebyshev', 3.892580372043542, 1.6700000060154707e-05]]\n",
      "[['manhattan', 4.54320654180803, 1.9699999938893598e-05], ['euclidean', 4.162347068254921, 2.0599999970727367e-05], ['chebyshev', 4.033373461768175, 1.8299999965165625e-05]]\n",
      "[['manhattan', 5.206096193819717, 1.7299999854003545e-05], ['euclidean', 5.173386045468158, 1.7399999933331856e-05], ['chebyshev', 6.03992522305296, 1.7699999943943112e-05]]\n",
      "[['manhattan', 2.454832613355472, 1.8199999885837315e-05], ['euclidean', 2.035344413819963, 1.699999984339229e-05], ['chebyshev', 2.5741496645052004, 1.75999998646148e-05]]\n",
      "[['manhattan', 3.284734012853473, 2.7899999849978485e-05], ['euclidean', 3.159374816540399, 2.8500000098574674e-05], ['chebyshev', 4.247357137134725, 2.7600000066740904e-05]]\n",
      "[['manhattan', 4.979059314428866, 3.150000020468724e-05], ['euclidean', 4.617693284409476, 3.1499999977313564e-05], ['chebyshev', 5.537772947681045, 3.2400000009147334e-05]]\n",
      "[['manhattan', 6.514690544991906, 3.349999997226405e-05], ['euclidean', 6.0535855250769295, 3.649999985100294e-05], ['chebyshev', 0.9973649774547433, 3.500000002532033e-05]]\n",
      "[['manhattan', 2.283310722534493, 2.689999996619008e-05], ['euclidean', 2.182127832963946, 5.1100000064252526e-05], ['chebyshev', 2.5817676814305544, 2.7700000146069215e-05]]\n",
      "[['manhattan', 3.4288362674018065, 5.900000019209983e-05], ['euclidean', 3.244883390854861, 5.300000020724838e-05], ['chebyshev', 5.12532450563138, 5.51000000541535e-05]]\n",
      "[['manhattan', 5.384798190714243, 0.00011859999995067483], ['euclidean', 4.938804545121533, 5.4700000191587606e-05], ['chebyshev', 7.805918099434418, 5.25000000379805e-05]]\n",
      "[['manhattan', 7.015920700798114, 0.00023559999999633874], ['euclidean', 6.43428618221245, 0.0002250000000003638], ['chebyshev', 2.202872297363802, 9.49999998738349e-05]]\n",
      "[['manhattan', 2.541797497167304, 5.29999999798747e-05], ['euclidean', 2.257056839690886, 0.0001548000000184402], ['chebyshev', 2.8027845191026515, 7.000000005064066e-05]]\n",
      "[['manhattan', 2.800160479440149, 2.4600000188002014e-05], ['euclidean', 2.739518955506722, 2.519999998185085e-05], ['chebyshev', 3.474252006355813, 1.4599999985875911e-05]]\n",
      "[['manhattan', 4.396084045219344, 1.990000009755022e-05], ['euclidean', 4.073582278442492, 2.2700000045006163e-05], ['chebyshev', 5.534582607013604, 4.659999990508368e-05]]\n",
      "[['manhattan', 5.35498856855406, 1.7100000150094274e-05], ['euclidean', 4.930760791263569, 1.699999984339229e-05], ['chebyshev', 2.4931985417555653, 1.629999997021514e-05]]\n",
      "[['manhattan', 1.6206681499231936, 2.9400000130408444e-05], ['euclidean', 1.8043432049562176, 1.629999997021514e-05], ['chebyshev', 1.9539454105190297, 1.550000001770968e-05]]\n",
      "[['manhattan', 2.361481888620137, 2.8400000019246363e-05], ['euclidean', 2.3548718698726963, 2.8499999871201e-05], ['chebyshev', 4.06166981051623, 3.3300000040981104e-05]]\n",
      "[['manhattan', 4.09778138759686, 6.3500000123895e-05], ['euclidean', 4.170790927651968, 8.40999998672487e-05], ['chebyshev', 4.817488615432484, 3.409999999348656e-05]]\n",
      "[['manhattan', 5.682904711230972, 3.209999999853608e-05], ['euclidean', 5.831552446182059, 3.1499999977313564e-05], ['chebyshev', 1.0288979091302977, 5.529999998543644e-05]]\n",
      "[['manhattan', 1.6879103633786245, 2.9599999834317714e-05], ['euclidean', 1.686709668650317, 2.960000006169139e-05], ['chebyshev', 2.286516954234852, 3.9399999877787195e-05]]\n",
      "[['manhattan', 2.6621035246577294, 6.989999997131235e-05], ['euclidean', 2.6704865026759492, 5.8399999943503644e-05], ['chebyshev', 3.9299497813081743, 5.82000000122207e-05]]\n",
      "[['manhattan', 4.384042935355751, 5.51000000541535e-05], ['euclidean', 4.361161786721462, 5.51000000541535e-05], ['chebyshev', 7.976061521727824, 5.5900000006658956e-05]]\n",
      "[['manhattan', 5.865606322663899, 8.01000001047214e-05], ['euclidean', 6.669755399188084, 0.0001320000001214794], ['chebyshev', 2.8284184773960495, 0.00012489999994613754]]\n",
      "[['manhattan', 1.6701108403668483, 0.00012100000003556488], ['euclidean', 1.668285393149886, 7.510000000365835e-05], ['chebyshev', 2.5029215310645014, 6.329999996523838e-05]]\n",
      "[['manhattan', 2.4227870880100455, 3.169999990859651e-05], ['euclidean', 2.33179720346151, 3.360000005159236e-05], ['chebyshev', 3.1950589508151768, 1.990000009755022e-05]]\n",
      "[['manhattan', 3.8852932642261164, 2.029999996011611e-05], ['euclidean', 3.836637771040929, 4.5099999852027395e-05], ['chebyshev', 4.321062243619287, 2.029999996011611e-05]]\n",
      "[['manhattan', 5.437507443012693, 1.8800000134433503e-05], ['euclidean', 5.193423792290166, 2.0499999891399057e-05], ['chebyshev', 4.129180058096587, 1.529999985905306e-05]]\n",
      "[['manhattan', 1.3878397567325615, 1.3800000033370452e-05], ['euclidean', 1.413732871379355, 1.4999999848441803e-05], ['chebyshev', 1.9295752765915182, 1.5300000086426735e-05]]\n",
      "[['manhattan', 2.5111893725917414, 3.5399999887886224e-05], ['euclidean', 3.023897981901848, 3.599999990910874e-05], ['chebyshev', 3.257138725869428, 3.720000017892744e-05]]\n",
      "[['manhattan', 4.157593854165898, 3.199999991920777e-05], ['euclidean', 4.047166239163641, 3.3400000120309414e-05], ['chebyshev', 6.252811515801924, 3.519999995660328e-05]]\n",
      "[['manhattan', 6.35628187736778, 3.119999996670231e-05], ['euclidean', 6.13570035965673, 3.1899999839879456e-05], ['chebyshev', 3.4744595232830493, 2.790000007735216e-05]]\n",
      "[['manhattan', 1.3061086722394242, 2.859999995052931e-05], ['euclidean', 1.3064990633944964, 2.960000006169139e-05], ['chebyshev', 1.6987568066320873, 3.930000002583256e-05]]\n",
      "[['manhattan', 2.4895785416207956, 5.959999998594867e-05], ['euclidean', 2.4816963625866335, 6.480000001829467e-05], ['chebyshev', 4.262112997025492, 6.680000001324515e-05]]\n",
      "[['manhattan', 4.104174166953748, 6.029999985912582e-05], ['euclidean', 4.092426479317435, 6.009999992784287e-05], ['chebyshev', 5.7565643589972115, 6.38999999864609e-05]]\n",
      "[['manhattan', 6.068193502330756, 6.0200000007171184e-05], ['euclidean', 6.512439069375419, 5.8500000022831955e-05], ['chebyshev', 1.9428494965592467, 0.00010670000006030023]]\n",
      "[['manhattan', 1.4128529818788604, 6.280000002334418e-05], ['euclidean', 1.4086131784651557, 5.8500000022831955e-05], ['chebyshev', 1.6283705336204441, 5.910000004405447e-05]]\n",
      "[['manhattan', 1.8677245528630944, 1.539999993838137e-05], ['euclidean', 1.8597205193314985, 1.5400000165755046e-05], ['chebyshev', 2.9274012285632036, 1.6700000060154707e-05]]\n",
      "[['manhattan', 3.1250663304613453, 1.799999995455437e-05], ['euclidean', 4.312448291309847, 1.6599999980826396e-05], ['chebyshev', 4.455777477390428, 2.7600000066740904e-05]]\n",
      "[['manhattan', 5.4146780146727105, 1.619999989088683e-05], ['euclidean', 5.16006936236574, 1.650000012887176e-05], ['chebyshev', 4.704902417950993, 1.6499999901498086e-05]]\n",
      "[['manhattan', 1.0084817122046166, 1.539999993838137e-05], ['euclidean', 0.9099333108413192, 1.4799999917158857e-05], ['chebyshev', 1.2213479022938336, 1.5099999927770114e-05]]\n",
      "[['manhattan', 2.101548783369149, 3.28000000990869e-05], ['euclidean', 2.0974796079464726, 3.179999998792482e-05], ['chebyshev', 3.584312655259505, 3.15999998292682e-05]]\n",
      "[['manhattan', 3.75028913833267, 3.579999997782579e-05], ['euclidean', 3.710702160121843, 3.600000013648241e-05], ['chebyshev', 5.645436255875004, 3.8499999845953425e-05]]\n",
      "[['manhattan', 6.268818808734987, 3.9600000036443816e-05], ['euclidean', 5.141555669031446, 3.980000019510044e-05], ['chebyshev', 2.047986400802886, 4.189999981463188e-05]]\n",
      "[['manhattan', 1.0681414028817175, 3.760000004149333e-05], ['euclidean', 1.0675520330223778, 2.9000000040468876e-05], ['chebyshev', 1.2380488976773294, 2.8200000087963417e-05]]\n",
      "[['manhattan', 2.1312036070869027, 7.040000014058023e-05], ['euclidean', 2.156671556886107, 7.080000000314612e-05], ['chebyshev', 3.9574801191871067, 6.95999999607011e-05]]\n",
      "[['manhattan', 4.018717129492775, 6.0200000007171184e-05], ['euclidean', 4.003458076582015, 6.43999999283551e-05], ['chebyshev', 6.880828337591253, 6.970000004002941e-05]]\n",
      "[['manhattan', 5.755640842258309, 6.009999992784287e-05], ['euclidean', 5.752105819076208, 0.0001064999999016436], ['chebyshev', 3.6355611436897965, 6.230000008144998e-05]]\n",
      "[['manhattan', 1.077200128690487, 7.149999987632327e-05], ['euclidean', 1.0947152254639871, 6.410000014511752e-05], ['chebyshev', 1.712119120205048, 5.7800000149654807e-05]]\n",
      "[['manhattan', 5.878532322924588, 3.710000009959913e-05], ['euclidean', 6.256300875020561, 1.6200000118260505e-05], ['chebyshev', 2.106237229836416, 1.4899999996487168e-05]]\n",
      "[['manhattan', 1.98356754592551, 1.3800000033370452e-05], ['euclidean', 1.8715347400593187, 1.340000017080456e-05], ['chebyshev', 2.204221877992461, 2.419999987068877e-05]]\n",
      "[['manhattan', 4.021190969676961, 1.6499999901498086e-05], ['euclidean', 4.118832249697044, 1.720000000204891e-05], ['chebyshev', 3.8923466860852254, 1.690000021881133e-05]]\n",
      "[['manhattan', 4.895660842250823, 1.5700000176366302e-05], ['euclidean', 4.8741468838594955, 1.8599999975776882e-05], ['chebyshev', 4.741624999651491, 1.720000000204891e-05]]\n",
      "[['manhattan', 8.094578762475564, 2.9699999913646025e-05], ['euclidean', 7.80563660475439, 3.779999997277628e-05], ['chebyshev', 3.3295530652057086, 3.6199999840391683e-05]]\n",
      "[['manhattan', 2.01563649607592, 3.6500000078376615e-05], ['euclidean', 2.0260733320862503, 7.060000007186318e-05], ['chebyshev', 3.131518797400382, 3.85000000733271e-05]]\n",
      "[['manhattan', 3.724642018613092, 3.3699999903546995e-05], ['euclidean', 3.678731959744703, 5.970000006527698e-05], ['chebyshev', 5.471277836492606, 3.1600000056641875e-05]]\n",
      "[['manhattan', 5.214351290234743, 3.310000010969816e-05], ['euclidean', 5.94586041035575, 3.349999997226405e-05], ['chebyshev', 3.8891928269622422, 3.429999992476951e-05]]\n",
      "[['manhattan', 8.216832395207467, 7.47999999930471e-05], ['euclidean', 8.327039308242247, 0.00011279999989710632], ['chebyshev', 2.5355103186857355, 6.609999991269433e-05]]\n",
      "[['manhattan', 1.9992561417160344, 7.559999994555255e-05], ['euclidean', 2.0083304952635377, 0.00010059999999612046], ['chebyshev', 2.9362457113557525, 8.63000000208558e-05]]\n",
      "[['manhattan', 3.7101241822443884, 6.540000003951718e-05], ['euclidean', 3.748293835476879, 5.8600000102160266e-05], ['chebyshev', 6.310055781093208, 0.00010200000019722211]]\n",
      "[['manhattan', 5.228002987856527, 5.410000017036509e-05], ['euclidean', 5.198138868554585, 5.8399999943503644e-05], ['chebyshev', 4.3591132890179995, 0.00013469999998960702]]\n",
      "[['manhattan', 1.2930485941237735, 0.0007567000000108237], ['euclidean', 1.331509124817082, 0.0008731000000352651], ['chebyshev', 1.572408714053032, 0.0007324999999127613]]\n",
      "[['manhattan', 1.4155044541411157, 3.59000000571541e-05], ['euclidean', 1.4155044541411157, 2.239999980702123e-05], ['chebyshev', 1.0627220076065236, 5.5699999848002335e-05]]\n",
      "[['manhattan', 1.2327807434613596, 0.004827599999998711], ['euclidean', 1.266360430896775, 0.003975099999934173], ['chebyshev', 1.902001127488284, 0.004297100000030696]]\n",
      "[['manhattan', 1.643184462771929, 0.00018989999989571515], ['euclidean', 1.6426357046091589, 0.0001726000000417116], ['chebyshev', 1.14481386956958, 0.0001816000003600493]]\n",
      "[['manhattan', 2.8696142341774475, 1.83000001925393e-05], ['euclidean', 2.8696142341774475, 3.060000017285347e-05], ['chebyshev', 1.0181500443747538, 3.879999985656468e-05]]\n",
      "[['manhattan', 2.2860137985656164, 1.4599999758502236e-05], ['euclidean', 2.252356078264171, 1.560000009703799e-05], ['chebyshev', 0.9581859371880829, 1.4800000371906208e-05]]\n",
      "[['manhattan', 3.3122696165372183, 3.35000004270114e-05], ['euclidean', 3.306066319356481, 3.500000002532033e-05], ['chebyshev', 1.260387517242184, 3.730000025825575e-05]]\n",
      "[['manhattan', 1.6464622995734512, 6.08000000283937e-05], ['euclidean', 1.6144653262390705, 6.08000000283937e-05], ['chebyshev', 1.9675639415530461, 6.290000010267249e-05]]\n",
      "[['manhattan', 1.949718861808901, 0.0013889000001654495], ['euclidean', 1.949718861808901, 0.0008198000004995265], ['chebyshev', 1.0219559989230234, 0.0008959999995568069]]\n",
      "[['manhattan', 2.348990385046096, 0.08087810000051832], ['euclidean', 2.7778702247724625, 0.10293720000026951], ['chebyshev', 1.0751053064898448, 0.07158389999949577]]\n",
      "[['manhattan', 1.8264614472683585, -0.005625375561236058], ['euclidean', 1.6164411255675286, -0.001691027110055217], ['chebyshev', 1.6178074434653995, -0.014042820770697014]]\n"
     ]
    },
    {
     "name": "stdout",
     "output_type": "stream",
     "text": [
      "[['manhattan', 3.220000007786439e-05, 5.5499999689345714e-05], ['euclidean', 3.229999992981902e-05, 5.5700000302749686e-05], ['chebyshev', 3.0000000151630957e-05, 5.899999996472616e-05]]\n",
      "[['manhattan', 2.659012694909104, 5.760000021837186e-05], ['euclidean', 2.633280891004009, 9.040000077220611e-05], ['chebyshev', 0.976347742408163, 5.710000004910398e-05]]\n",
      "[['manhattan', 0.9146913370339057, 0.001780999999937194], ['euclidean', 0.9188860492140235, 0.0017288999997617793], ['chebyshev', 0.9647467919535356, 0.001808099999834667]]\n",
      "[['manhattan', 0.44065974453419754, 4.230000001825829e-05], ['euclidean', 0.44065974453419754, 1.7500000012660166e-05], ['chebyshev', 0.44065974453419754, 2.9899999958615808e-05]]\n",
      "[['manhattan', 1.4188312878598939, 0.0007716000000073109], ['euclidean', 1.524045300654288, 0.0012125000002924935], ['chebyshev', 1.4605636119942031, 0.0008892999994714046]]\n",
      "[['manhattan', 0.8510074289478964, 1.4900000223860843e-05], ['euclidean', 0.8617242472820775, 1.5000000075815478e-05], ['chebyshev', 0.7719801303307717, 1.5899999652901897e-05]]\n",
      "[['manhattan', 1.4995184058052728, 0.0926619000001665], ['euclidean', 1.4995184058052728, 0.10794269999951212], ['chebyshev', 1.2240516939846706, 0.09105240000008052]]\n",
      "[['manhattan', 0.6938753227890836, 3.2499999633728294e-05], ['euclidean', 0.6938753227890836, 3.51999997292296e-05], ['chebyshev', 0.7523300168517338, 3.3400000120309414e-05]]\n",
      "[['manhattan', 1.3600780339411496, 1.6799999684735667e-05], ['euclidean', 1.4366702841211079, 1.430000020263833e-05], ['chebyshev', 3.413985123472502, 1.4400000054592965e-05]]\n",
      "[['manhattan', 1.1144861042987286, 5.4399999953602673e-05], ['euclidean', 1.222997556570862, 4.4999999772699084e-05], ['chebyshev', 1.3646937542019608, 4.579999995257822e-05]]\n",
      "[['manhattan', 2.5807519992895043, 0.031611800000007406], ['euclidean', 2.505388110355002, 0.04212179999998966], ['chebyshev', 3.230760689094504, 0.054921299999989515]]\n",
      "[['manhattan', 1.985781772533063, 0.001062899999851652], ['euclidean', 1.9828206676822957, 0.0010930999997071922], ['chebyshev', 1.3360132830683948, 0.0011116000005131355]]\n",
      "[['manhattan', 2.043606798150619, 1.7500000012660166e-05], ['euclidean', 2.043606798150619, 1.9300000076327706e-05], ['chebyshev', 1.1508470998412357, 1.8899999759014463e-05]]\n",
      "[['manhattan', 1.0381692601855743, 0.00018180000006395858], ['euclidean', 1.0902806950860964, 0.0001810000003388268], ['chebyshev', 1.6526489425793152, 0.00018140000065614004]]\n",
      "[['manhattan', 0.9603548051832442, 1.919999976962572e-05], ['euclidean', 1.058280093767803, 2.1299999843904516e-05], ['chebyshev', 2.9248013545351856, 2.0500000118772732e-05]]\n",
      "[['manhattan', 1.8364058054922048, 7.530000038968865e-05], ['euclidean', 1.704879274072317, 7.610000011482043e-05], ['chebyshev', 1.0942856063068482, 0.00011780000022554304]]\n",
      "[['manhattan', 1.3408623315184123, 0.0002947000002677669], ['euclidean', 1.3345715978195418, 0.00017899999966175528], ['chebyshev', 1.392140606539342, 0.0002392999995208811]]\n",
      "[['manhattan', 1.3876486330048907, 3.979999974035309e-05], ['euclidean', 1.3978895878150346, 3.789999982473091e-05], ['chebyshev', 1.4471726447761322, 3.949999972974183e-05]]\n",
      "[['manhattan', 5.251973932855342, 2.949999998236308e-05], ['euclidean', 4.05448490273084, 5.030000011174707e-05], ['chebyshev', 1.0236049499965947, 3.1600000056641875e-05]]\n",
      "[['manhattan', 2.601022380085751, 0.0009089000004678383], ['euclidean', 2.7864342429878333, 0.0008978000005299691], ['chebyshev', 0.9467543289761514, 0.000895700000000943]]\n",
      "[['manhattan', 1.195898622817345, 6.859999984953902e-05], ['euclidean', 1.2281563181844475, 4.1000000237545464e-05], ['chebyshev', 1.4423959503269723, 6.630000007135095e-05]]\n",
      "[['manhattan', 1.7811762601152263, 0.0008981999999377877], ['euclidean', 1.7735269166492915, 0.0009117999998125015], ['chebyshev', 3.094213915222723, 0.000988800000413903]]\n",
      "[['manhattan', 1.2189789762379026, 0.0002401000001555076], ['euclidean', 1.2343421324729975, 0.00023429999964719173], ['chebyshev', 1.5254733624596302, 0.0002289000003656838]]\n",
      "[['manhattan', 0.9101521680245952, 2.1299999843904516e-05], ['euclidean', 0.8474274519981954, 2.210000002378365e-05], ['chebyshev', 0.9286898918290781, 2.319999975952669e-05]]\n",
      "[['manhattan', 0.8600110330848132, 1.560000009703799e-05], ['euclidean', 0.8553527661795224, 1.4400000054592965e-05], ['chebyshev', 0.8422588799151857, 1.539999993838137e-05]]\n",
      "[['manhattan', 1.627379619930573, 5.7700000070326496e-05], ['euclidean', 1.4803580351711767, 4.7900000026857015e-05], ['chebyshev', 1.8214595880217528, 4.599999965648749e-05]]\n",
      "[['manhattan', 2.2949348850820925, 1.0300000212737359e-05], ['euclidean', 2.304104019334289, 1.13999999484804e-05], ['chebyshev', 1.0113022207535567, 1.06999996205559e-05]]\n",
      "[['manhattan', 2.801884901241498, 0.00020849999964411836], ['euclidean', 2.7639044640654977, 0.00020989999984522], ['chebyshev', 1.0116447381265476, 0.00026180000031672535]]\n",
      "[['manhattan', 2.385365222564194, 0.0012155999999947653], ['euclidean', 3.017136951807562, 0.0011554999999816573], ['chebyshev', 0.9964702980315812, 0.001148000000000593]]\n",
      "[['manhattan', 3.064549224841052, 0.0021887000000049284], ['euclidean', 3.5904769315861, 0.0030750000000239197], ['chebyshev', 1.0354708238059533, 0.001259800000013911]]\n",
      "[['manhattan', 1.2495848936882774, 1.4999999621068127e-05], ['euclidean', 1.2241858952455313, 2.300000051036477e-05], ['chebyshev', 1.0562257806437882, 2.1599999854515772e-05]]\n",
      "[['manhattan', 1.8750568298834998, 0.0003278999997746723], ['euclidean', 1.79089731239318, 0.0003152999997837469], ['chebyshev', 2.1237236387822134, 0.0003061000002162473]]\n",
      "[['manhattan', 1.0868542202586258, 0.00034479999976611], ['euclidean', 1.882819826442215, 0.0010158999994018814], ['chebyshev', 6.97861404946542, 0.00041450000026088674]]\n",
      "[['manhattan', 0.8427360700858315, 0.0009058000000550237], ['euclidean', 1.593665476487623, 0.0001909000002342509], ['chebyshev', 2.650325652941222, 0.0003127999998469022]]\n",
      "[['manhattan', 3.3587151535903943, 0.0015901000001576904], ['euclidean', 3.3587151535903943, 0.001635199999782344], ['chebyshev', 2.192914167376702, 0.0016129999999066058]]\n",
      "[['manhattan', 1.339006968206441, 1.650000012887176e-05], ['euclidean', 1.2738388319906564, 1.5700000403739978e-05], ['chebyshev', 1.4771014808723832, 1.5100000382517464e-05]]\n",
      "[['manhattan', 1.4099065610492956, 1.0800000382005237e-05], ['euclidean', 2.032382488685877, 1.1000000085914508e-05], ['chebyshev', 2.4083321433139653, 1.1799999811046291e-05]]\n",
      "[['manhattan', 1.259478978842292, 2.4699999812582973e-05], ['euclidean', 1.3875384899897178, 1.539999993838137e-05], ['chebyshev', 1.9607719975343887, 1.500000053056283e-05]]\n",
      "[['manhattan', 2.0067568069424215, 1.140000040322775e-05], ['euclidean', 1.866821219860648, 1.0599999768601265e-05], ['chebyshev', 2.580629091339677, 1.1799999811046291e-05]]\n",
      "[['manhattan', 1.7743198131416655, 1.1299999641778413e-05], ['euclidean', 1.8762149100389522, 1.1399999493733048e-05], ['chebyshev', 2.269273604190571, 1.1499999345687684e-05]]\n",
      "[['manhattan', 2.586051901005175, 1.0000000656873453e-05], ['euclidean', 2.618442626486748, 9.100000170292333e-06], ['chebyshev', 0.8696976064957671, 9.899999895424116e-06]]\n",
      "[['manhattan', 2.6333849715922915, 1.0199999451288022e-05], ['euclidean', 2.3325742227608024, 1.0100000508828089e-05], ['chebyshev', 1.8825244953643054, 9.900000804918818e-06]]\n",
      "[['manhattan', 1.134665096843534, 1.939999947353499e-05], ['euclidean', 1.1833520422165384, 1.900000006571645e-05], ['chebyshev', 2.126003746455868, 2.0700000277429353e-05]]\n",
      "[['manhattan', 1.1491232052526832, 1.0999999176419806e-05], ['euclidean', 1.1575987929221605, 1.0999999176419806e-05], ['chebyshev', 2.0967412281394284, 1.160000010713702e-05]]\n",
      "[['manhattan', 1.3809013398231407, 2.3099999452824704e-05], ['euclidean', 1.4328318233058077, 2.1599999854515772e-05], ['chebyshev', 2.1744829172766185, 2.2300000637187622e-05]]\n",
      "[['manhattan', 1.4056855653961948, 2.5599999389669392e-05], ['euclidean', 1.496556248557118, 4.6099999963189475e-05], ['chebyshev', 2.2143167691346797, 4.55999997939216e-05]]\n",
      "[['manhattan', 1.0342997361531652, 3.120000019407598e-05], ['euclidean', 1.0868052491231908, 3.2699999792384915e-05], ['chebyshev', 1.1981399318704358, 3.2300000384566374e-05]]\n",
      "[['manhattan', 1.229941235855421, 3.220000053261174e-05], ['euclidean', 1.0730250511857742, 3.420000030018855e-05], ['chebyshev', 1.2058584499492992, 3.389999983482994e-05]]\n",
      "[['manhattan', 2.2087670196304385, 3.6100000215810724e-05], ['euclidean', 2.1076424684367927, 3.670000023703324e-05], ['chebyshev', 2.9698636138616994, 3.509999987727497e-05]]\n",
      "[['manhattan', 0.9587195619891319, 3.239999932702631e-05], ['euclidean', 0.9587195619891319, 3.310000010969816e-05], ['chebyshev', 0.9587195619891319, 3.20999997711624e-05]]\n",
      "[['manhattan', 1.0512330343621665, 3.3799999982875306e-05], ['euclidean', 1.053209238058407, 3.550000019458821e-05], ['chebyshev', 1.143426862508774, 3.5400000342633575e-05]]\n",
      "[['manhattan', 1.6039177553515955, 1.1099999937869143e-05], ['euclidean', 1.5423512697155082, 1.0799999472510535e-05], ['chebyshev', 0.7826362013404314, 1.1000000085914508e-05]]\n",
      "[['manhattan', 1.1052704204499673, 1.9099999917671084e-05], ['euclidean', 1.1487046660343665, 2.0600000425474718e-05], ['chebyshev', 1.973298933045305, 2.0000000404252205e-05]]\n",
      "[['manhattan', 1.7356760613009552, 3.300000025774352e-05], ['euclidean', 1.7356760613009552, 3.919999926438322e-05], ['chebyshev', 1.2849854793757098, 3.819999983534217e-05]]\n",
      "[['manhattan', 1.4010174924707295, 2.2000000171829015e-05], ['euclidean', 1.5339834528102716, 2.2000000171829015e-05], ['chebyshev', 1.6141390768393273, 2.1600000764010474e-05]]\n"
     ]
    },
    {
     "name": "stdout",
     "output_type": "stream",
     "text": [
      "[['manhattan', 4.027229551337984, 7.860000005166512e-05], ['euclidean', 3.9480453320911995, 3.550000019458821e-05], ['chebyshev', 6.1161872572712195, 3.5599999137048144e-05]]\n",
      "[['manhattan', 2.354010225402267, 1.5499999790336005e-05], ['euclidean', 3.0369430083042164, 1.4899999769113492e-05], ['chebyshev', 1.0461230756985216, 1.269999938813271e-05]]\n",
      "[['manhattan', 1.767536467395129, 1.939999947353499e-05], ['euclidean', 1.6926180288936568, 1.9500000234984327e-05], ['chebyshev', 1.104046237152169, 1.8699999600357842e-05]]\n",
      "[['manhattan', 1.6039177553515955, 1.1899999663000926e-05], ['euclidean', 1.5423512697155082, 1.1199999789823778e-05], ['chebyshev', 0.7826362013404314, 1.089999932446517e-05]]\n",
      "[['manhattan', 1.2601985581669566, 2.5899999855028e-05], ['euclidean', 1.2584498181522594, 3.170000036334386e-05], ['chebyshev', 1.354691085083018, 2.6599999728205148e-05]]\n",
      "[['manhattan', 0.891730432609392, 1.2599999536178075e-05], ['euclidean', 0.891730432609392, 1.0600000678095967e-05], ['chebyshev', 1.9878420676152382, 1.4199999895936344e-05]]\n",
      "[['manhattan', 1.7004399617900856, 3.0299999707494862e-05], ['euclidean', 1.573076027286173, 3.0199999855540227e-05], ['chebyshev', 0.9940431209325341, 2.570000015111873e-05]]\n",
      "[['manhattan', 1.9297402438341438, 1.4400000509340316e-05], ['euclidean', 1.9329636829174082, 1.4100000043981709e-05], ['chebyshev', 1.0511555373416355, 1.3099999705445953e-05]]\n",
      "[['manhattan', 1.2075102231552568, 3.330000072310213e-05], ['euclidean', 1.201199597957885, 2.89999998130952e-05], ['chebyshev', 1.3048219025180117, 2.8299999939918052e-05]]\n",
      "[['manhattan', 1.2516905732902446, 2.789999962260481e-05], ['euclidean', 1.2895351864403704, 3.459999970800709e-05], ['chebyshev', 1.5858010835596532, 2.949999998236308e-05]]\n",
      "[['manhattan', 1.3625069195906905, 4.3900000491703395e-05], ['euclidean', 1.2223521041648597, 3.980000019510044e-05], ['chebyshev', 1.0145519079220613, 3.8099999983387534e-05]]\n",
      "[['manhattan', 2.4437376105417314, 2.190000031987438e-05], ['euclidean', 2.623717653046882, 2.680000034160912e-05], ['chebyshev', 0.7957160890589031, 2.1099999685247894e-05]]\n",
      "[['manhattan', 1.5432389325588811, 0.00010039999995115068], ['euclidean', 1.506856505901478, 0.000130899999930989], ['chebyshev', 1.6320176607676669, 9.699999998247222e-05]]\n",
      "[['manhattan', 2.0595133048332244, 1.5100000382517464e-05], ['euclidean', 1.947131060305832, 2.3499999770137947e-05], ['chebyshev', 2.3246996738139627, 1.4199999895936344e-05]]\n",
      "[['manhattan', 1.9394806516725194, 1.7100000150094274e-05], ['euclidean', 1.0717120736174934, 1.83000001925393e-05], ['chebyshev', 1.0717120736174934, 1.6899999536690302e-05]]\n",
      "[['manhattan', 1.138069307289387, 1.4599999303754885e-05], ['euclidean', 1.1558069276851237, 1.609999981155852e-05], ['chebyshev', 3.568672177014711, 1.720000000204891e-05]]\n",
      "[['manhattan', 1.25838085101883, 3.329999981360743e-05], ['euclidean', 1.298749587896586, 2.27999998969608e-05], ['chebyshev', 1.1877460510436049, 2.429999949526973e-05]]\n",
      "[['manhattan', 0.8951863805864352, 1.849999989644857e-05], ['euclidean', 0.8758917811584747, 1.7899999875226058e-05], ['chebyshev', 0.8926309395906186, 1.700000029813964e-05]]\n",
      "[['manhattan', 1.4880341716657999, 1.5300000086426735e-05], ['euclidean', 1.5704571927064137, 2.6300000172341242e-05], ['chebyshev', 3.203207904092758, 2.7299999601382297e-05]]\n",
      "[['manhattan', 2.0732378103581177, 2.0899999981338624e-05], ['euclidean', 2.1778185842736466, 2.1099999685247894e-05], ['chebyshev', 0.7831928469659521, 2.1500000002561137e-05]]\n",
      "[['manhattan', 1.4676371450737744, 1.7100000150094274e-05], ['euclidean', 1.4126775105893508, 1.6899999536690302e-05], ['chebyshev', 1.3695926492704085, 1.629999951546779e-05]]\n",
      "[['manhattan', 1.8749289004036076, 1.06999996205559e-05], ['euclidean', 1.846426776880751, 1.06999996205559e-05], ['chebyshev', 2.417459125546699, 1.0099999599333387e-05]]\n",
      "[['manhattan', 1.1193218523079762, 3.240000023652101e-05], ['euclidean', 1.1081338055322536, 2.7299999601382297e-05], ['chebyshev', 1.1748762829736816, 2.299999960087007e-05]]\n",
      "[['manhattan', 1.5664727488665233, 2.5399999685760122e-05], ['euclidean', 1.5664727488665233, 2.719999974942766e-05], ['chebyshev', 1.37504487568413, 2.5100000129896216e-05]]\n",
      "[['manhattan', 1.7106346790002898, 6.930000017746352e-05], ['euclidean', 1.705513604709332, 4.309999985707691e-05], ['chebyshev', 1.8650610105518313, 5.070000042906031e-05]]\n",
      "[['manhattan', 2.7687216268449917, 3.8299999687296804e-05], ['euclidean', 2.766905769630777, 3.949999972974183e-05], ['chebyshev', 1.0479784519021635, 3.470000046945643e-05]]\n",
      "[['manhattan', 1.5892964486004715, 0.0015866999997342646], ['euclidean', 1.2250318550308894, 0.0016144000001077075], ['chebyshev', 1.083231164211142, 0.0016272000002572895]]\n",
      "[['manhattan', 0.6446585666697333, 2.250000000003638e-05], ['euclidean', 0.6446585666697333, 5.9799999974075035e-05], ['chebyshev', 0.6413652051304246, 6.139999999277279e-05]]\n",
      "[['manhattan', 1.3378429437208055, 1.7899999875226058e-05], ['euclidean', 1.2999317399380457, 1.9099999917671084e-05], ['chebyshev', 1.2612694981810375, 1.939999947353499e-05]]\n",
      "[['manhattan', 1.1930130747069716, 1.9600000086938962e-05], ['euclidean', 0.9770516449074522, 1.9300000531075057e-05], ['chebyshev', 1.0181189978056848, 1.9699999938893598e-05]]\n",
      "[['manhattan', 3.973422505809866, 1.5999999959603883e-05], ['euclidean', 3.291390254100289, 1.5199999324977398e-05], ['chebyshev', 0.9824851934510048, 1.5300000086426735e-05]]\n",
      "[['manhattan', 0.2490885961015065, 4.900000021734741e-06], ['euclidean', 0.2490885961015065, 4.200000148557592e-06], ['chebyshev', 0.2490885961015065, 4.399999852466863e-06]]\n",
      "[['manhattan', 0.4529059968592447, 5.099999725644011e-06], ['euclidean', 0.4529059968592447, 4.70000031782547e-06], ['chebyshev', 0.45880889574537004, 4.200000148557592e-06]]\n",
      "[['manhattan', 0.4764261582974312, 5.000000783184078e-06], ['euclidean', 0.4828802710664276, 4.300000000512227e-06], ['chebyshev', 0.5985131611695318, 4.999999873689376e-06]]\n",
      "[['manhattan', 0.2454233193250505, 4.70000031782547e-06], ['euclidean', 0.2454233193250505, 4.599999556376133e-06], ['chebyshev', 0.8788731988885548, 4.499999704421498e-06]]\n",
      "[['manhattan', 0.40302027526611706, 8.099999831756577e-06], ['euclidean', 0.36334528774147296, 5.300000339047983e-06], ['chebyshev', 0.36334528774147296, 4.900000021734741e-06]]\n",
      "[['manhattan', 1.2032361627233803, 1.720000000204891e-05], ['euclidean', 1.1968901541124046, 4.360000002634479e-05], ['chebyshev', 1.2598404148329487, 4.0800000022045424e-05]]\n",
      "[['manhattan', 1.8279847583290738, 0.0002521999995224178], ['euclidean', 1.7559061428393428, 0.000420000000303844], ['chebyshev', 1.8485904403767737, 0.003390400000171212]]\n",
      "[['manhattan', 0.7530037722321667, 0.0044096000001445645], ['euclidean', 0.7552686967052544, 0.002885700000661018], ['chebyshev', 2.4374003554375303, 0.0029997999999977765]]\n",
      "[['manhattan', 2.128981063001736, 4.11000000895001e-05], ['euclidean', 2.113039232438165, 6.469999971159268e-05], ['chebyshev', 2.6885488777224995, 4.460000036488054e-05]]\n",
      "[['manhattan', 2.2236150038849423, 0.007322399999793561], ['euclidean', 2.058959872316215, 0.007906599999842001], ['chebyshev', 1.0517873579540669, 0.007902199999989534]]\n",
      "[['manhattan', 1.1519077494830996, 1.9799999790848233e-05], ['euclidean', 1.1639763734792645, 2.010000025620684e-05], ['chebyshev', 1.268382946439836, 1.880000036180718e-05]]\n",
      "[['manhattan', 1.509921442153654, 0.00044049999996786937], ['euclidean', 1.5137706498407515, 0.00043340000047464855], ['chebyshev', 0.8295876554544735, 0.0004362999998193118]]\n",
      "[['manhattan', 2.5277792019092034, 1.4700000065204222e-05], ['euclidean', 2.003387928150761, 1.359999987471383e-05], ['chebyshev', 0.9469347485162226, 1.4100000043981709e-05]]\n",
      "[['manhattan', 1.4435943798909499, 0.00041429999964748276], ['euclidean', 1.4304914202494803, 0.0008013999995455379], ['chebyshev', 1.559737411184541, 0.0006882999996378203]]\n",
      "[['manhattan', 0.5112700340933205, 0.00011189999986527255], ['euclidean', 0.5299195168546321, 0.00011390000054234406], ['chebyshev', 0.5123910963510317, 0.00018139999974664534]]\n",
      "[['manhattan', 2.3371746502750566, 1.1699999959091656e-05], ['euclidean', 2.3371746502750566, 1.8600000657897908e-05], ['chebyshev', 0.9850862983678472, 1.1900000572495628e-05]]\n"
     ]
    },
    {
     "name": "stdout",
     "output_type": "stream",
     "text": [
      "[['manhattan', 0.20544379010235553, 0.0001754000004439149], ['euclidean', 0.20544379010235553, 0.00017829999978857813], ['chebyshev', 0.20544379010235553, 0.0002870999996957835]]\n",
      "[['manhattan', 1.2274368119637338, 0.008779400001003523], ['euclidean', 1.2274368119637338, 0.010324599999876227], ['chebyshev', 1.1227519299870463, 0.026370699999461067]]\n",
      "[['manhattan', 4.591697957198605, 8.50000014906982e-06], ['euclidean', 4.53984464015592, 8.399999387620483e-06], ['chebyshev', 1.0621558780111555, 7.900000127847306e-06]]\n",
      "[['manhattan', 0.43982692099453646, 6.949999988137279e-05], ['euclidean', 0.43982692099453646, 7.470000036846614e-05], ['chebyshev', 0.43982692099453646, 0.00014289999944594456]]\n",
      "[['manhattan', 1.267472762171666, 0.00011470000026747584], ['euclidean', 1.2079440287883356, 8.39000003907131e-05], ['chebyshev', 1.1984819904031176, 7.15000005584443e-05]]\n",
      "[['manhattan', 1.0555421598560109, 0.0017235999994227313], ['euclidean', 0.6529477407395479, 0.0017256000000998029], ['chebyshev', 0.6443168583927452, 0.0028318000004219357]]\n",
      "[['manhattan', 1.8823831489793998, 2.9200000426499173e-05], ['euclidean', 2.057538340737028, 3.4499999856052455e-05], ['chebyshev', 1.2233896704187592, 2.6900000193563756e-05]]\n",
      "[['manhattan', 1.1091693751793064, 0.00037180000072112307], ['euclidean', 0.9659771864465702, 0.0004308000006858492], ['chebyshev', 1.0428699666610421, 0.0004701000007116818]]\n",
      "[['manhattan', 0.9659258262890684, 8.300000445160549e-06], ['euclidean', 0.7044816901914636, 8.299999535665847e-06], ['chebyshev', 1.115069293303905, 8.600000001024455e-06]]\n",
      "[['manhattan', 2.8955173246625265, 0.0006309000000328524], ['euclidean', 2.9198841081356046, 0.00016009999944799347], ['chebyshev', 1.0293231276653803, 0.00015830000029382063]]\n",
      "[['manhattan', 0.9314228664450104, 0.007574999999633292], ['euclidean', 0.9314228664450104, 0.02642999999989115], ['chebyshev', 0.9314228664450104, 0.005653400000483089]]\n",
      "[['manhattan', 2.3177067481757745, 0.003105199999481556], ['euclidean', 2.662712143141794, 0.003165600000102131], ['chebyshev', 0.949041724254942, 0.003244000000449887]]\n",
      "[['manhattan', 3.1323580885592084, 1.3799999578623101e-05], ['euclidean', 3.1077515437969754, 1.359999987471383e-05], ['chebyshev', 1.0646113820079088, 1.340000017080456e-05]]\n",
      "[['manhattan', 0.7153021693493298, 2.210000002378365e-05], ['euclidean', 0.7153021693493298, 3.749999996216502e-05], ['chebyshev', 1.9194377670980356, 4.11000000895001e-05]]\n",
      "[['manhattan', 0.8107299049723691, 0.0005474999998114072], ['euclidean', 0.8107299049723691, 0.0009573999996064231], ['chebyshev', 1.1405977189462044, 0.0005685000005541951]]\n",
      "[['manhattan', 0.7644604230928425, 0.000578000000132306], ['euclidean', 0.7644604230928425, 0.0005645000001095468], ['chebyshev', 1.0905005345491556, 0.0009145000003627501]]\n",
      "[['manhattan', 1.3479906104111736, 0.0029976999994687503], ['euclidean', 1.26026501319658, 0.005243699999482487], ['chebyshev', 1.313989182390074, 0.0029560000002675224]]\n",
      "[['manhattan', 1.8923412186070636, 1.2599999536178075e-05], ['euclidean', 1.8923412186070636, 1.2000000424450263e-05], ['chebyshev', 0.9199860371828668, 1.1099999937869143e-05]]\n",
      "[['manhattan', 1.6973633507211263, 0.011257999999997992], ['euclidean', 1.5689289941452664, 0.016763600000103906], ['chebyshev', 1.0085124845078448, 0.01337809999995443]]\n",
      "[['manhattan', 1.6147297823488551, 2.3199999986900366e-05], ['euclidean', 1.5502596844262453, 3.350000008595089e-05], ['chebyshev', 1.2938990437369968, 2.2700000045006163e-05]]\n",
      "[['manhattan', 0.9705006616532428, 0.0436738999999875], ['euclidean', 1.0396291274477711, 0.058012999999988324], ['chebyshev', 1.59321583374961, 0.04986110000001531]]\n",
      "[['manhattan', 1.0661334740802848, 0.002288199999384233], ['euclidean', 1.0587926220708326, 0.01515540000036708], ['chebyshev', 1.0974148823043028, 0.0023884999991423683]]\n",
      "[['manhattan', 1.4602746759851282, 0.006504700000732555], ['euclidean', 2.532381144655319, 0.006962600000406383], ['chebyshev', 1.3522295604686858, 0.006536200000482495]]\n",
      "[['manhattan', 1.1361955049251846, 0.003000400000018999], ['euclidean', 1.2222114867424458, 0.002832400000443158], ['chebyshev', 1.2398217991002063, 0.002718700000514218]]\n",
      "[['manhattan', 2.8469944151404607, 8.819999993647798e-05], ['euclidean', 2.8743853965192128, 5.629999986922485e-05], ['chebyshev', 1.0012657113529253, 5.020000025979243e-05]]\n",
      "[['manhattan', 1.9966876351576757, 9.100000170292333e-06], ['euclidean', 1.9966876351576757, 1.1799999811046291e-05], ['chebyshev', 0.8990958892725703, 9.60000033956021e-06]]\n",
      "[['manhattan', 2.070422489661801, 1.6099998902063817e-05], ['euclidean', 1.9965343993642197, 1.6799998775240965e-05], ['chebyshev', 1.055093927674456, 1.610000072105322e-05]]\n",
      "[['manhattan', 2.752749686404901, 0.0003658999999061052], ['euclidean', 2.8933112976464535, 0.00039830000014262623], ['chebyshev', 1.2216182299664349, 0.00046320000001287553]]\n",
      "[['manhattan', 2.4961748564693385, 3.8800000766059384e-05], ['euclidean', 1.905524925520552, 4.099999932805076e-05], ['chebyshev', 0.9675626852660296, 3.7399999200715683e-05]]\n",
      "[['manhattan', 1.0113702812662075, 1.8000000636675395e-05], ['euclidean', 0.9253481655287992, 1.9699999029398896e-05], ['chebyshev', 0.9445368161211698, 4.509999962465372e-05]]\n",
      "[['manhattan', 1.4791978968936101, 3.620000097726006e-05], ['euclidean', 1.4703138851850857, 3.5600000046542846e-05], ['chebyshev', 1.2657374874073781, 3.470000046945643e-05]]\n",
      "[['manhattan', 2.04719936514127, 1.6899999536690302e-05], ['euclidean', 2.04719936514127, 1.700000029813964e-05], ['chebyshev', 0.9922762061532688, 1.5800000255694613e-05]]\n",
      "[['manhattan', 2.6286167449314846, 0.0012848000001213222], ['euclidean', 2.409472939310528, 0.001450499999918975], ['chebyshev', 2.826196476671297, 0.0013174000000617525]]\n",
      "[['manhattan', 3.4432249734861187, 0.0005346000002646178], ['euclidean', 2.9097698148227438, 0.0005462000003717549], ['chebyshev', 4.0735304140712, 0.0005375999999159831]]\n",
      "[['manhattan', 1.2493942792898238, 0.0022162000000207627], ['euclidean', 1.2493942792898238, 0.0011464999997770065], ['chebyshev', 1.8645070099337184, 0.0012191999999231484]]\n",
      "[['manhattan', 1.0112413034448127, 9.159999990515644e-05], ['euclidean', 0.8776775145232741, 9.239999963028822e-05], ['chebyshev', 0.8944817221483904, 9.260000024369219e-05]]\n",
      "[['manhattan', 1.0342997361531652, 4.389999958220869e-05], ['euclidean', 1.0868052491231908, 4.7900000936351717e-05], ['chebyshev', 1.1981399318704358, 6.0399999711080454e-05]]\n",
      "[['manhattan', 1.7561157425426763, 0.0004507999997258594], ['euclidean', 1.6991955253883964, 0.0002859000001080858], ['chebyshev', 1.7933458906043658, 0.0002741999996942468]]\n",
      "[['manhattan', 1.9334636973336963, 0.000809799999842653], ['euclidean', 1.7800216681768963, 0.0008044999999583524], ['chebyshev', 2.167690778263584, 0.0008012999996935832]]\n",
      "[['manhattan', 1.3507114779269307, 2.229999881819822e-05], ['euclidean', 1.3488967022869578, 2.1699999706470408e-05], ['chebyshev', 1.4777152282153148, 2.119999953720253e-05]]\n",
      "[['manhattan', 1.6825541748543935, 4.660000013245735e-05], ['euclidean', 1.6998447121970566, 2.1300000298651867e-05], ['chebyshev', 2.599885226481972, 2.479999966453761e-05]]\n",
      "[['manhattan', 0.8704622046005511, 0.0005500000006577466], ['euclidean', 3.048413776805081, 0.0003704999999172287], ['chebyshev', 7.169072704055843, 0.00040979999903356656]]\n",
      "[['manhattan', 1.2638259024104241, 1.5099998563528061e-05], ['euclidean', 1.2638259024104241, 1.650000012887176e-05], ['chebyshev', 0.9152314042480715, 1.4600000213249587e-05]]\n"
     ]
    }
   ],
   "source": [
    "folder = \"dataset_labels/txt_indiv\"\n",
    "datasets = listdir(folder)\n",
    "\n",
    "NOT_APPLICABLE = \"NOT_APPLICABLE\"\n",
    "\n",
    "TOP_N = 3\n",
    "\n",
    "# Number of output text files for each dataset (ARI, DBS, and time elapsed)\n",
    "CHUNKED_BY = 3 \n",
    "chunked_datasets=[datasets[i:i + CHUNKED_BY] for i in range(0, len(datasets), CHUNKED_BY)]\n",
    "\n",
    "HEADER = \"dataset,best_dist_metric_ari,best_dist_metric_ari_eval,best_dist_metric_dbs,best_dist_metric_dbs_eval\\n\"\n",
    "f_out = open('./dataset_labels/csv_collated/results_top_metrics.csv', 'w')\n",
    "f_out.write(HEADER)\n",
    "\n",
    "for dataset in chunked_datasets:\n",
    "    ari, dbs, time_elapsed = dataset[0], dataset[1], dataset[2]\n",
    "\n",
    "    # Convert text files to dictionaries.\n",
    "    f_ari = open(f\"./dataset_labels/txt_indiv/{ari}\", \"r\")\n",
    "    ari_dict = f_ari.read()\n",
    "    ari_dict = ari_dict.replace(\"'\", '\"')\n",
    "    ari_dict = json.loads(ari_dict)\n",
    "    f_ari.close()\n",
    "    \n",
    "    for distance_metric in clustering_results['best_dist_metric_ari'].value_counts().index[TOP_N:]:\n",
    "        ari_dict[distance_metric] = NOT_APPLICABLE\n",
    "\n",
    "    f_dbs = open(f\"./dataset_labels/txt_indiv/{dbs}\", \"r\")\n",
    "    dbs_dict = f_dbs.read()\n",
    "    dbs_dict = dbs_dict.replace(\"'\", '\"')\n",
    "    dbs_dict = json.loads(dbs_dict)\n",
    "    f_dbs.close()\n",
    "    \n",
    "    for distance_metric in clustering_results['best_dist_metric_dbs'].value_counts().index[TOP_N:]:\n",
    "        dbs_dict[distance_metric] = NOT_APPLICABLE\n",
    "\n",
    "    f_time = open(f\"./dataset_labels/txt_indiv/{time_elapsed}\", \"r\")\n",
    "    time_dict = f_time.read()\n",
    "    time_dict = time_dict.replace(\"'\", '\"')\n",
    "    time_dict = json.loads(time_dict)\n",
    "    f_time.close()\n",
    "\n",
    "    ari_sorted = []\n",
    "    dbs_sorted = []\n",
    "\n",
    "    # Convert dictionaries to arrays of the form\n",
    "    # [key, perfomance, time].\n",
    "    for key in ari_dict.keys():\n",
    "        if ari_dict[key] != NOT_APPLICABLE:\n",
    "            ari_sorted.append([key, ari_dict[key], time_dict[key]])\n",
    "        if dbs_dict[key] != NOT_APPLICABLE and key != 'standardized_euclidean':\n",
    "            dbs_sorted.append([key, dbs_dict[key], time_dict[key]])\n",
    "            \n",
    "    print(dbs_sorted)\n",
    "    \n",
    "    # Sort arrays by performance (best to worst) then by time (fastest to slowest).\n",
    "    ari_sorted.sort(key=lambda items: (items[1], -items[2]), reverse = True)\n",
    "    dbs_sorted.sort(key=lambda items: (items[1], items[2]))\n",
    "\n",
    "    filename, _ = ari.rsplit('_', 1)\n",
    "\n",
    "    # Get the best distance metric based on ARI\n",
    "    ari_len = len(ari_sorted)\n",
    "    if ari_len != 0:\n",
    "        best_dist_metric_ari = ari_sorted[0][0]\n",
    "        best_dist_metric_ari_eval = ari_sorted[0][1]\n",
    "    else:\n",
    "        best_dist_metric_ari = NOT_APPLICABLE\n",
    "        best_dist_metric_ari_eval = NOT_APPLICABLE\n",
    "    \n",
    "    # Get the best distance metric based on DBS\n",
    "    dbs_len = len(dbs_sorted)\n",
    "    if dbs_len != 0:\n",
    "        best_dist_metric_dbs = dbs_sorted[0][0]\n",
    "        best_dist_metric_dbs_eval = dbs_sorted[0][1]\n",
    "    else:\n",
    "        best_dist_metric_dbs = NOT_APPLICABLE\n",
    "        best_dist_metric_dbs_eval = NOT_APPLICABLE    \n",
    "        \n",
    "    DATA = f\"{filename},{best_dist_metric_ari},{best_dist_metric_ari_eval},{best_dist_metric_dbs},{best_dist_metric_dbs_eval}\\n\"\n",
    "    f_out.write(DATA)\n",
    "\n",
    "f_out.close()"
   ]
  },
  {
   "cell_type": "code",
   "execution_count": 73,
   "metadata": {},
   "outputs": [
    {
     "data": {
      "text/html": [
       "<div>\n",
       "<style scoped>\n",
       "    .dataframe tbody tr th:only-of-type {\n",
       "        vertical-align: middle;\n",
       "    }\n",
       "\n",
       "    .dataframe tbody tr th {\n",
       "        vertical-align: top;\n",
       "    }\n",
       "\n",
       "    .dataframe thead th {\n",
       "        text-align: right;\n",
       "    }\n",
       "</style>\n",
       "<table border=\"1\" class=\"dataframe\">\n",
       "  <thead>\n",
       "    <tr style=\"text-align: right;\">\n",
       "      <th></th>\n",
       "      <th>dataset</th>\n",
       "      <th>best_dist_metric_ari</th>\n",
       "      <th>best_dist_metric_ari_eval</th>\n",
       "      <th>best_dist_metric_dbs</th>\n",
       "      <th>best_dist_metric_dbs_eval</th>\n",
       "    </tr>\n",
       "  </thead>\n",
       "  <tbody>\n",
       "    <tr>\n",
       "      <th>0</th>\n",
       "      <td>a1_raw</td>\n",
       "      <td>manhattan</td>\n",
       "      <td>0.196831</td>\n",
       "      <td>euclidean</td>\n",
       "      <td>1.563114</td>\n",
       "    </tr>\n",
       "    <tr>\n",
       "      <th>1</th>\n",
       "      <td>a1_va3</td>\n",
       "      <td>euclidean</td>\n",
       "      <td>0.181099</td>\n",
       "      <td>euclidean</td>\n",
       "      <td>2.103271</td>\n",
       "    </tr>\n",
       "    <tr>\n",
       "      <th>2</th>\n",
       "      <td>a2_raw</td>\n",
       "      <td>euclidean</td>\n",
       "      <td>0.297242</td>\n",
       "      <td>chebyshev</td>\n",
       "      <td>1.302162</td>\n",
       "    </tr>\n",
       "    <tr>\n",
       "      <th>3</th>\n",
       "      <td>a2_va3</td>\n",
       "      <td>euclidean</td>\n",
       "      <td>0.163337</td>\n",
       "      <td>manhattan</td>\n",
       "      <td>2.143495</td>\n",
       "    </tr>\n",
       "    <tr>\n",
       "      <th>4</th>\n",
       "      <td>a3_raw</td>\n",
       "      <td>euclidean</td>\n",
       "      <td>0.287089</td>\n",
       "      <td>euclidean</td>\n",
       "      <td>1.359764</td>\n",
       "    </tr>\n",
       "    <tr>\n",
       "      <th>...</th>\n",
       "      <td>...</td>\n",
       "      <td>...</td>\n",
       "      <td>...</td>\n",
       "      <td>...</td>\n",
       "      <td>...</td>\n",
       "    </tr>\n",
       "    <tr>\n",
       "      <th>335</th>\n",
       "      <td>winequality-white</td>\n",
       "      <td>euclidean</td>\n",
       "      <td>0.041872</td>\n",
       "      <td>euclidean</td>\n",
       "      <td>1.780022</td>\n",
       "    </tr>\n",
       "    <tr>\n",
       "      <th>336</th>\n",
       "      <td>wine</td>\n",
       "      <td>euclidean</td>\n",
       "      <td>0.003037</td>\n",
       "      <td>euclidean</td>\n",
       "      <td>1.348897</td>\n",
       "    </tr>\n",
       "    <tr>\n",
       "      <th>337</th>\n",
       "      <td>wisconsin</td>\n",
       "      <td>mahalanobis</td>\n",
       "      <td>0.025664</td>\n",
       "      <td>manhattan</td>\n",
       "      <td>1.682554</td>\n",
       "    </tr>\n",
       "    <tr>\n",
       "      <th>338</th>\n",
       "      <td>Zemberek-Stemmed</td>\n",
       "      <td>euclidean</td>\n",
       "      <td>0.001240</td>\n",
       "      <td>manhattan</td>\n",
       "      <td>0.870462</td>\n",
       "    </tr>\n",
       "    <tr>\n",
       "      <th>339</th>\n",
       "      <td>zoo_one_hot</td>\n",
       "      <td>manhattan</td>\n",
       "      <td>1.000000</td>\n",
       "      <td>chebyshev</td>\n",
       "      <td>0.915231</td>\n",
       "    </tr>\n",
       "  </tbody>\n",
       "</table>\n",
       "<p>340 rows × 5 columns</p>\n",
       "</div>"
      ],
      "text/plain": [
       "               dataset best_dist_metric_ari  best_dist_metric_ari_eval  \\\n",
       "0               a1_raw            manhattan                   0.196831   \n",
       "1               a1_va3            euclidean                   0.181099   \n",
       "2               a2_raw            euclidean                   0.297242   \n",
       "3               a2_va3            euclidean                   0.163337   \n",
       "4               a3_raw            euclidean                   0.287089   \n",
       "..                 ...                  ...                        ...   \n",
       "335  winequality-white            euclidean                   0.041872   \n",
       "336               wine            euclidean                   0.003037   \n",
       "337          wisconsin          mahalanobis                   0.025664   \n",
       "338   Zemberek-Stemmed            euclidean                   0.001240   \n",
       "339        zoo_one_hot            manhattan                   1.000000   \n",
       "\n",
       "    best_dist_metric_dbs  best_dist_metric_dbs_eval  \n",
       "0              euclidean                   1.563114  \n",
       "1              euclidean                   2.103271  \n",
       "2              chebyshev                   1.302162  \n",
       "3              manhattan                   2.143495  \n",
       "4              euclidean                   1.359764  \n",
       "..                   ...                        ...  \n",
       "335            euclidean                   1.780022  \n",
       "336            euclidean                   1.348897  \n",
       "337            manhattan                   1.682554  \n",
       "338            manhattan                   0.870462  \n",
       "339            chebyshev                   0.915231  \n",
       "\n",
       "[340 rows x 5 columns]"
      ]
     },
     "execution_count": 73,
     "metadata": {},
     "output_type": "execute_result"
    }
   ],
   "source": [
    "clustering_results = pd.read_csv('dataset_labels/csv_collated/results_top_metrics.csv')\n",
    "clustering_results"
   ]
  },
  {
   "cell_type": "code",
   "execution_count": 74,
   "metadata": {},
   "outputs": [
    {
     "data": {
      "text/plain": [
       "manhattan      130\n",
       "euclidean      112\n",
       "mahalanobis     98\n",
       "Name: best_dist_metric_ari, dtype: int64"
      ]
     },
     "execution_count": 74,
     "metadata": {},
     "output_type": "execute_result"
    }
   ],
   "source": [
    "clustering_results['best_dist_metric_ari'].value_counts()"
   ]
  },
  {
   "cell_type": "code",
   "execution_count": 75,
   "metadata": {},
   "outputs": [
    {
     "data": {
      "text/plain": [
       "chebyshev    139\n",
       "euclidean    122\n",
       "manhattan     79\n",
       "Name: best_dist_metric_dbs, dtype: int64"
      ]
     },
     "execution_count": 75,
     "metadata": {},
     "output_type": "execute_result"
    }
   ],
   "source": [
    "clustering_results['best_dist_metric_dbs'].value_counts()"
   ]
  },
  {
   "cell_type": "markdown",
   "metadata": {},
   "source": [
    "<hr>"
   ]
  },
  {
   "cell_type": "markdown",
   "metadata": {},
   "source": [
    "## References"
   ]
  },
  {
   "cell_type": "markdown",
   "metadata": {},
   "source": [
    "[1] X. Zhu, Y. Li, J. Wang, T. Zheng, and J. Fu, \"Automatic recommendation of a distance measure for\n",
    "clustering algorithms,\" *ACM Transactions on Knowledge Discovery from Data*, vol. 15, no. 1, pp. 7-22,\n",
    "December 2020.\n",
    "\n",
    "[2] B. A. Pimentel and A. C. P. L. F. de Carvalho, \"Statistical versus distance-based meta-features for\n",
    "clustering algorithm recommendation using meta-learning,\" in Proc. 2018 International Joint Conference\n",
    "on Neural Networks (IJCNN), 2018, pp. 1-8.\n",
    "\n",
    "[3] B. A. Pimentel and A. C. P. L. F. de Carvalho, \"A Meta-learning approach for recommending the\n",
    "number of clusters for clustering algorithms,\" *Knowledge-Based Systems*, vol. 195, May 2020.\n",
    "\n",
    "[4] L. Hubert and P. Arabie, \"Comparing partitions,\" *Journal of Classification*, vol. 2, pp. 193-218, December 1985.\n",
    "\n",
    "[5] D. L. Davies and D. W. Bouldin, \"A cluster separation measure,\" *IEEE Transactions on Pattern Analysis and Machine Intelligence*, vol. PAMI-1, no. 2, pp. 224-227, April 1979."
   ]
  }
 ],
 "metadata": {
  "kernelspec": {
   "display_name": "Python 3",
   "language": "python",
   "name": "python3"
  },
  "language_info": {
   "codemirror_mode": {
    "name": "ipython",
    "version": 3
   },
   "file_extension": ".py",
   "mimetype": "text/x-python",
   "name": "python",
   "nbconvert_exporter": "python",
   "pygments_lexer": "ipython3",
   "version": "3.7.6"
  },
  "vscode": {
   "interpreter": {
    "hash": "ad2bdc8ecc057115af97d19610ffacc2b4e99fae6737bb82f5d7fb13d2f2c186"
   }
  }
 },
 "nbformat": 4,
 "nbformat_minor": 4
}
